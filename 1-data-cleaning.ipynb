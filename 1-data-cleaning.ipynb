{
 "cells": [
  {
   "cell_type": "markdown",
   "metadata": {},
   "source": [
    "# Data Preparation\n",
    "\n",
    "## PART 1: Selecting Data\n",
    "* Select news orgs + classify them\n",
    "* Read the news covering the Atlanta Shootings and select a few pieces\n",
    "* Put them into a dictionary database"
   ]
  },
  {
   "cell_type": "markdown",
   "metadata": {},
   "source": [
    "## Articles and Thoughts:\n",
    "FOX: https://www.foxnews.com/opinion/tucker-carlson-atlanta-shooter-media-political-agenda\n",
    "* mentioned how the the shooter was struggling with mental health\n",
    "* denied that the shooting was racially motivated\n",
    "* brought up the BML movement and made comparisons\n",
    "\n",
    "NYT: https://www.nytimes.com/2021/03/19/opinion/atlanta-shooting-massage-sex-work.html\n",
    "* \"the victims lived at the nexus of race, gender and class\"\n",
    "* talked about how race, gender, and class intersected at this crime\n",
    "\n",
    "CNN: https://www.cnn.com/2021/03/20/opinions/atlanta-spa-shootings-a-hate-crime-hong/index.html\n",
    "* brought up the question: \"how is this not a hate crime\"\n",
    "* called attempts to bring up anything else as a \"distraction\"\n",
    "* heavily called on the police's statements\n",
    "\n",
    "AC: https://www.theamericanconservative.com/dreher/racializing-atlanta-massage-parlor-killings/\n",
    "* lots of text exerpts\n",
    "* called the media \"radicalized\"\n",
    "* says that racism is bad but this is not racist\n",
    "* exerpts has been cut out for time\n",
    "\n",
    "Notes for Cleaning:\n",
    "* all are capturing the \\n and other \\ functions\n",
    "* CNN in particular has weird \",&#39\" things"
   ]
  },
  {
   "cell_type": "code",
   "execution_count": 2,
   "metadata": {},
   "outputs": [],
   "source": [
    "# load files and read into data\n",
    "keys = ['nyt', 'fox', 'cnn', 'ac']\n",
    "data = {}\n",
    "for k in keys:\n",
    "    with open(\"articles/opinions/\" + k + \".txt\", \"rb\") as file:\n",
    "        # print(type(file.read()))\n",
    "        contents = file.read().decode(\"utf-8\") \n",
    "        data[k] = []\n",
    "        data[k].append(contents)\n",
    "        file.close()"
   ]
  },
  {
   "cell_type": "code",
   "execution_count": 3,
   "metadata": {},
   "outputs": [
    {
     "name": "stdout",
     "output_type": "stream",
     "text": [
      "{'nyt': ['Among the first things I did upon learning about the shootings at three massage parlors in the Atlanta area was to check in with a former massage parlor worker I met in 2019. At the time, I was reporting an article about a prostitution raid at a Florida massage parlor.\\n\\nUnable to work during the pandemic, she was home alone when we spoke; the news from Atlanta hadn’t reached her yet. “Too frightening,” she said, when I sent her an article about what had happened. Robert Aaron Long, 21, who has been charged with the murder of eight people in Atlanta and nearby Acworth, six of them Asian women, had been arrested on his way to Florida — where she was — and where he planned on killing \\\\more, according to what he told the police. She worried for her colleagues. “Do you think someone will kill them? Am I in danger too?”\\n\\nI didn’t know how to respond, in part because I knew so little about those killed in Georgia: Hyun Jung Grant, 51; Suncha Kim, 69; Soon Chung Park, 74; Yong Ae Yu, 63. (Daoyou Feng, 44; Xiaojie Tan, 49; Paul Andre Michels, 54; and Delaina Ashley Yaun, 33, were victims identified earlier.) In some massage parlors, women, often Asian, may sometimes perform sexual services. But I did not know whether those who died this week would have identified themselves as sex workers.\\n\\nI have spent the past few years researching the various ways sex work intersects with race, class and gender, routinely amazed by how it connects to such disparate issues as criminal justice, gentrification, poverty, immigration and trans rights. I have come to understand sex work rights as an overlooked civil rights issue that deserves study. I soon found myself placing the Atlanta killings within the context of a horrific history.\\n\\nIn 1974, a soldier, Park Estep, 25, was convicted of a crime against two women at the Suezy Oriental Massage Parlor near Fort Carson in Colorado. According to court documents, he slashed the throat of Yon Cha Ye Lee, 32, an employee at the parlor, and stabbed her in the back. He then raped 36-year-old Sun Ok Cousin, the spa’s owner, before shooting her in the right temple, killing her and then setting her on fire. In 1993, Kenneth Markle III, 20, a medic at a U.S. military base in South Korea, was convicted of murdering Yun Kum-i, a 26-year-old sex worker. Her sexually-abused corpse was found near the base.\\n\\nSince the terrible events this past Tuesday, much effort has been devoted to understanding Mr. Long — an earnest inquiry that betrays a particular kind of American naïveté. He claimed to have been driven by “sexual addiction”; investigators have not yet ruled out race as a factor. For now, we do not know whether the massage parlor workers who were killed would have considered themselves sex workers, and we may never know. But the answer is less relevant to their deaths than their murderer’s answer: Does it matter how one identifies oneself if a mass killer conflates any Asian woman in a massage parlor with a sex worker?\\n\\nThe stereotype of the Asian woman as simultaneously hypersexualized and submissive is borne of centuries of Western imperialism. An early documented instance of Asian fetishization can be found in “Madame Chrysantheme,” a thinly fictionalized account of a French naval officer’s time visiting 19th-century Japan. “Madame Chrysantheme” was wildly popular when it was published, and went on to create a subgenre of Orientalizing prose. The women in such accounts were, as Edward Said wrote in “Orientalism,” “creatures of a male power-fantasy. They express unlimited sensuality, they are more or less stupid, and above all they are willing.”\\n\\nLater, an untold number of American servicemen in Korea and Vietnam had their first sexual encounter with Asian women. The U.S. military tacitly endorsed prostitution, considering it good for morale, and at times even explicitly encouraged troops to explore the local sex industry. According to the book “Sex Among Allies” by Katharine Moon, a professor of political science at Wellesley College, an ad in Stars and Stripes, the main military newspaper, read: “Picture having three or four of the loveliest creatures God ever created hovering around you, singing, dancing, feeding you, washing what they feed you down with rice wine or beer, all saying at once, ‘You are the greatest.’ This is the Orient you heard about and came to find.”\\n\\nYuri Doolan, an assistant professor of history and of women’s, gender and sexuality studies at Brandeis University, has written that the first Korean massage parlor workers most likely came to the United States in the 1950s after the United States reduced its forces in South Korea after the war there. They were unlikely to have been massage parlor workers before they came: The son of one of the victims has said his mother told him she was a teacher before coming to the United States.\\n\\nThese women, the first thousand or so, likely met their servicemen husbands in base towns across South Korea that sprang up during the Korean War, and the American occupation that followed.\\n\\nIn 1986 when the Immigration and Naturalization Service created the Korean Organized Crime Task Force to fight the scourge of its time, Korean prostitution, the authorities estimated that some 90 percent of massage parlor workers in the United States had come to the country as G.I. brides. These women followed their husbands to military bases. Once settled, some opened massage parlors, among the few opportunities for employment and financial autonomy available to immigrant women.\\n\\nBut beyond this specific history, structural violence against Asians in the United States has long been institutionalized. The racist, sexist nature of American society is hardly some aberrant, recent phenomenon that can be fixed through minor reform.\\n\\nIn 1882, the Chinese Exclusion Act became the first and only major federal law to exclude a specific ethnic group from entering the United States. It codified in federal law the xenophobia that had been building since the economic depression after the Civil War, in which Chinese laborers were blamed for taking jobs away from white people. The 19th and early 20th centuries saw horrific violence against Asian communities, including the 1887 Hells Canyon massacre, in which as many as 34 Chinese miners were killed, and the 1907 Bellingham riots, which drove out the entire South Asian population within three days.\\n\\nPredating the Chinese Exclusion Act was the lesser-known Page Law of 1875, which was mostly applied to Chinese immigrants and allowed the barring of entry to those deemed to have agreed to services with “lewd and immoral purposes.” Immigration officials asked every female applicant, “Are you a virtuous woman?” They “apparently operated on the premise that every Chinese woman was seeking admission on false pretenses, and that each was a potential prostitute until proven otherwise,” according to “Unbound Feet” by Judy Yung, a historian and emerita professor of American studies at the University of California, Santa Cruz.\\n\\nIn this way, the Asian woman became an object of hatred, and lust, a thing to loathe, then desire, the distance between yellow peril and yellow fever measured in flashes.\\n\\nIt is hard to know what motivates a person. Early reporting has pointed to the tension between Mr. Long’s religious beliefs and sexual behavior he saw as compulsive, and the way this tension may have warped him. But Mr. Long is also a white man born in 21st-century America, a country with a rich history of violence against Asians. A place where the previous president was among the first to call Covid-19 the “Kung Flu,” and the “China virus,” possibly sowing the seeds for the nearly 3,800 acts of violence against Asians — mostly women — that followed. Did this history allow Mr. Long to see murder as a way of eliminating “temptation,” as he has said — a way of viewing Asians as expendable?\\n\\nThe events were also informed by class: These women, some of whom were working class, almost certainly died because they were at work. As working women of color, they existed at the terrible nexus of race, gender and class. It is, of course, often women who don’t speak English or are undocumented who are locked out of traditional labor markets, or are otherwise marginalized.\\n\\nMany have framed the Atlanta spa shootings as a hate crime against the Asian community. Hate crime is a legal designation that serves to justify more policing. Despite being seen as a candidate supporting decriminalization of sex work, the New York City mayoral candidate Andrew Yang took the occasion to call for more funding of the New York Police Department’s Asian Hate Crime Task Force. The Atlanta police deployed additional patrols across the city, as did the N.Y.P.D., despite the fact that the police are the sources of instability in the massage-parlor-worker community. The irony is, of course, that had the women in Atlanta not been killed, they would have probably run the risk of being arrested by the very same law enforcement officers.\\n\\nIt is the instinct of the living to commemorate the dead, to make their passing not be in vain. I, too, am vulnerable to such impulses, and so I end by saying Georgia reminds us — I hope — that anti-Asian violence is also anti-women violence, anti-poor violence, and anti-sex-work violence, that our fates are entwined, that fighting oppression means fighting oppression not just in one’s own narrowly defined community, but also everywhere.'], 'fox': ['On the afternoon of March 16, police say, a 21-year-old man called Robert Aaron Long walked into a massage parlor outside Atlanta and shot five people. Long then drove to two other massage parlors in the city and shot another four. Of the nine people Robert Long is accused of shooting, two were White, one was Hispanic, and the other six were Asian women. Of those six women, according to the South Korean government, at least four of them were Korean.\\n\\nPolice caught Robert Long within hours, as he was driving his Hyundai south on Interstate 75. At the sheriffs’ department press conference the next day, Captain Jay Baker explained what happened next.\\n\\nCHEROKEE COUNTY SHERIFF\\'S OFFICE CAPTAIN JAY BAKER: The suspect did take responsibility for the shootings. He said that early on, once we began the interviews with him. He claims that these, and as the chief said, this is still early, but he does claim that it was not racially motivated. He apparently has an issue, what he considers sex addiction, and sees these locations as something that allows him to go to these places, and it’s a temptation for him that he wanted to eliminate.\\n\\nSo the police took a long and detailed statement from Robert Long, and to restate, here’s what they found: Long immediately confessed to the crimes. But while he admitted to committing multiple murders — a death penalty offense in the state of Georgia — Long denied having any racial motivation. Instead, he told police he had a sex addiction and an \"issue with porn,\" and that he shot up massage parlors in an effort to eliminate his own temptation to visit them.\\n\\nPolice arrested Long as he was heading to Florida, where he said he’d planned to kill more people in the sex industry. So, Robert Long was fixated on prostitution and pornography, and that’s why he said he committed the murders. The next day, information came to light that seemed to confirm his story. A man called Tyler Bayless said he shared a room with Long in a Georgia rehab facility last year. Bayless was there for drugs, but Long was there for sex addiction.\\n\\n\"It was something that absolutely would torture him,\" Bayless said. While at the facility, Long frequently relapsed and went \"to massage parlors explicitly to engage in sex acts.\"\\n\\nAs a result of this torment he said he experienced, Long says he shot eight people.\\n\\nA ninth victim, 30-year-old Elcias Hernandez-Ortiz, remains in the hospital in critical condition. According to police, Hernandez-Ortiz had nothing to do with prostitution whatsoever. He just happened to be walking past a massage parlor on the way to another business when Long shot him.\\n\\nAtlanta shooting suspect a \\'sex addict\\' who was kicked out of home by parents: Nancy GraceVideo\\nSo, those are the facts as we understand them. An honest reporter might follow those facts in a number of obvious directions. Robert Long seems deranged, but his obsessive and violent behavior seems sadly familiar if you follow the news closely. An increasing number of Americans struggle with mental illness. It would be worth knowing much more about Robert Long’s life, if only to try to prevent the next mass shooting.\\n\\nThen there’s the very real question of sex addiction, which we should not laugh off. Why is there so much prostitution in Atlanta? Google business listings show more massage parlors in the city than Starbucks outlets. Who works in these places and under what conditions? That’s not a hard question to answer. Wikipedia has an entire entry on human trafficking in the state of Georgia. According to the Department of Justice, \"Atlanta is a major transportation hub for trafficking young girls\" and \"one of the fourteen U.S. cities with the highest levels of child sex trafficking.\"\\n\\nA competent media might tell us more about this. Knowing more facts and rationally assessing them might improve this country. But it’s not the coverage we’re getting. It’s not even close to the coverage we are getting.\\n\\nInstead, the usual liars are describing the massacre in Atlanta as the one thing it apparently wasn’t: A racial attack. \"White supremacy and hate are haunting Asian Americans,\" CNN confidently announced in a headline. \\n\\nDavid Leebron, the president of Rice University in Texas and a man who is supposed to be a scholar, may have been watching this. He immediately issued a statement that got key facts about the killings completely wrong, not that facts were the point of the statement. The point was making that sure everyone understood the political lesson.\\n\\n\"The deliberate use of such terms as ‘the China virus’ to foster bigotry has played a significant role,\" Leebron intoned, as if he knew that to be true. (He didn’t, because there’s no evidence.) He continued, \"Sadly and predictably, this escalation of racially-based hatred has led to violence.\"\\n\\nLeebron is telling us it was all entirely predictable, because once you describe a Chinese virus as Chinese, people are naturally going to start murdering Korean women. You could have seen that coming. \\n\\nHarvard couldn’t resist getting involved. Bigotry against Asians is a sensitive subject at Harvard University, given that it is one of the very few institutions in American life that has publicly admitted committing it. Many schools do, but Harvard got caught. Over the course of many years, Harvard has denied admission to Asian students precisely because they are Asian. If there’s a clearer definition of bigotry than this, it’s hard to imagine what it might be. Harvard doesn’t want to talk about it, and a mass murder in Atlanta was the perfect way to change the subject.\\n\\n\"For the past year,\" Harvard administrators wrote, \"Asians, Asian Americans and Pacific Islanders have been blamed for the pandemic.\" Once again, if you dare note that the novel coronavirus came from Wuhan, a mentally ill sex addict is certain to shoot up a brothel in Atlanta.\\n\\nSeem far-fetched? The White House press secretary agreed with it.\\n\\nJEN PSAKI: \"You know, I think there’s no question that some of the damaging rhetoric that we saw during the prior administration, blaming — you know, calling COVID, you know, the ‘Wuhan virus’ or other things led to, you know, perceptions of the Asian-American community that are inaccurate, unfair...\"\\n\\nSo White supremacists did it. It’s such a lie. Asian-Americans do suffer quite a few violent attacks in this country, unfortunately, but there’s zero evidence that a rise in White supremacy is driving those attacks. We don’t have to guess about this, because the Justice Department keeps the numbers. According to federal statistics, African-American perpetrators are more likely than any other group to attack Asian-Americans. It happens quite a bit.\\n\\nMost racial violence in this country, most violence of all kinds, occurs within racial groups. Whites are the most likely to attack Whites, Blacks are the most likely to attack Blacks, etc. The only exception we found were Asians. Asians were more likely to be attacked by African-Americans than by members of their own ethnicity.\\n\\nWhy is that? We can’t say for sure, and we’re not going to speculate. Unlike the other cable channels, we will not draw grand and divisive conclusions from this or any data about race. It’s always wrong to blame an entire group for anything, ever. Treat people as individuals first — that’s the whole point of America. We can say this has been going on for quite a while, as anyone who lives in a city well knows.\\n\\nTensions between African-Americans and immigrant Korean store owners, for example, were a central factor in the 1992 Los Angeles riots. It wasn’t QAnon that made violent threats against Asian shopkeepers in New York in the 1980s. It was Al Sharpton. And so on. As noted, this kind of violence has a long history, though the media have done their best to ignore it.\\n\\nBut now they’re lying to us at very high volume. Why are they doing that? Because they need to. The Democratic coalition is profoundly unstable, and becoming more so. Take a look at the election results. All-Hispanic counties on the Mexican border turned red overnight. The rise of BLM, and the riots they led over the summer, is a big part of why that is happening. Decadent White liberals loved the whole thing, but no one else did. BLM came out in favor of abolishing the nuclear family, and looting and burning small businesses.\\n\\nIf you’re a bearded nihilist living in Williamsburg, Brooklyn, with a degree in gender studies from Oberlin, that might sound pretty great. If you’re an immigrant Chinese or Salvadoran, running a restaurant or a dry cleaning business, it definitely doesn’t sound great. You care most of all about your family. You desperately need your business. So, the Democratic Party is at risk of losing voters like this. Again, look at the last election results carefully. At this point, the media’s job is to remind these voters they need to stay in the Democratic Party because the real enemy is straight White men. So that’s what they’re doing.\\n\\nNICOLLE WALLACE, MSNBC: I just keep thinking of that domestic terror alert warning we got shortly after the insurrection. It warned us that until the end of April, we’d be living under the threat of domestic violence extremism from a combination of White supremacists, militias and extremists who are angry about both the election results because of Donald Trump’s big lie and the COVID restrictions. I wonder if you can speak to the intersection of that group we were warned about publicly and the targeting of Asian Americans.\\n\\nWhite supremacists and militias who were angry about COVID restrictions. That’s who committed mass murder in Atlanta on Tuesday. It’s tempting to laugh at lies like this, and at that buffoon Nicolle Wallace especially. Who’d believe a word she says? But keep in mind, the more they say it, the more people believe it, and the more power they can grab on the basis of those lies.  \\n\\nWe have seen that happen in the two months since Jan. 6. At first it was almost amusing to hear them call that a \"White supremacist insurrection.\" It was so stupid. But now, two months later, it’s all but established history. They’re changing the country on the basis of those lies. They repeat them until people believe them, and then they act. Never underestimate the power of propaganda. That’s why they use it. It’s not an accident.\\n\\nNew York City Mayor Bill de Blasio is wasting no time. He is already using what happened in Atlanta on Tuesday to justify siccing the NYPD on anyone who disagrees with him.\\n\\nDE BLASIO: I also think even if something is not a criminal case, a perpetrator being confronted by the city - whether it’s NYPD or another agency – and being told that what they did was very hurtful to another person and could, if ever repeated, could lead to criminal charges – that’s another important piece of the puzzle.\\n\\n\"Even if something is not a criminal case,\" the police can respond. Even if it’s not a crime. What is de Blasio saying here? The mayor of New York is calling for armed thought police in America’s biggest city. Laugh if you want at that. \"De Blasio’s a joke,\" right? Just wait. What sounds absurd today becomes established practice sooner than you think.'], 'cnn': ['At an office where I worked some years ago, a male co-worker would repeatedly stop by my desk and interrupt my work to talk about sex. One of my colleagues, who got fed up overhearing this, made a sexual harassment complaint on my behalf to the human resources department (without my permission, not that I cared). I got called in by HR and was told: \"I have heard your complaint about racial discrimination. I think it is invalid.\"\\n\\nHuh? I hadn\\'t said anything about race, nor (as far as anyone ever told me) had my colleague who had reported the \"talking about sex\" behavior. The HR staffer then started to say something about sex discrimination, which I hadn\\'t mentioned either. Then this person said that there was a separate procedure for each of these complaints and that I had to pick one. HR was attempting to claim, metaphorically speaking, that the crime scene was too messy to investigate. In other words, the company was pulling a classic magician\\'s trick: misdirection.\\n\\nWith the recent shooting at three spas in Atlanta, Georgia, in which eight women — six of whom were Asian — were killed, a similar dynamic appears to be at play, but on a significantly more serious scale. Days after the shooting, local law enforcement has yet to call this a hate crime. Instead, they have been shuffling around several potential — and inaccurate — labels like a shell game on a street corner. The alleged shooter told police essentially that he was suffering from horniness (apparently the kind that only a gun could fix?), and got up on the wrong side of the bed — don\\'t know. The result? Misdirection.\\n\\nTo be absolutely clear, Atlanta Mayor Keisha Lance Bottoms has done the right thing, telling CNN, \"It looked like a hate crime to me.\" But, as far as her city\\'s law enforcement is concerned, \"we are just not there as of yet,\" in the words of Rodney Bryant, the acting chief of the Atlanta Police Department. FBI director Christopher Wray echoed the APD\\'s stance, telling NPR in an interview published on Thursday, \"(I)t does not appear that the motive was racially motivated. But I really would defer to the state and local investigation on that for now.\"\\n\\nA captain with the Cherokee County Sheriff\\'s Office referred to Robert Aaron Long\\'s alleged sex addiction as a possible motive. Capt. Jay Baker offered in a press conference Wednesday that the confessed shooter\\'s motive seemed to be lust: \"a temptation ... that he wanted to eliminate.\" Baker has since been removed from the case, but the damage is done. He\\'s already used his influence to sell — on national TV — the standard cocktail of sexual fetishism, Asian females and \"provoked\" violence.\\nRemarks such as Baker\\'s imply that the victims were sex workers, even though Bottoms stated that the spas were legally operating businesses with no police records of wrongdoing. Besides which, who cares what a person\\'s job is at the time of their slaughter? If you think that having a \"respectable\" occupation can spare you from a wanton murder spree, please tell your kid that if there\\'s a school shooting, they should show the shooter their student ID.\\n\\nDo not let them confuse you.\\n\\nDid Long have other motives besides race? \"Yesterday was a really bad day for him,\" Baker told reporters Wednesday, by way of explaining Long\\'s alleged actions. What a compassionate mensch this Baker is. His was a display of empathy in the true sense the word. As has since been widely reported, Baker\\'s social media appears to have been plugging T-shirts last year bearing the slogan, \"Covid-19: Imported Virus from Chy-na.\" The account that posted it has been deleted, and when contacted by CNN about the post, Baker told CNN, \"No additional comment.\"\\nYou see what\\'s going on here, right? As the late writer Toni Morrison famously said in a 1975 lecture on race, \"The function, the very serious function of racism is distraction. It keeps you from doing your work ... It really is the red flag that the toreador dances before the head of a bull. Its purpose ... to keep the bull\\'s mind away from his power and his energy.\"\\nThe Atlanta killings come on the heels of a growing spate of anti-Asian attacks taking various forms; some violent and random, some verbal and vengeful. I could name them, but after a certain point, it\\'s just an exercise in seeing how high you can count. It\\'s tempting to want to just stop and turn away. Which is exactly what hate crime skeptics want you to do — detach from the human reality.\\nThe watchdog group Stop AAPI Hate, which started tracking anti-Asian attacks shortly after the Covid pandemic began, released a report just before news of the Atlanta shooting broke. The group received 3,795 complaints of racism and discrimination since this time last year. And according to a study of police data released by the Center for the Study of Hate and Extremism at California State University in San Bernardino, hate crimes against Asian Americans in 16 US cities rose 149% in 2020 over the previous year. New York City saw an alarming 833% rise during the same period.\\n&#39;I didn&#39;t want to be Asian at all,&#39; college student tells CNN \\n\\n\\'I didn\\'t want to be Asian at all,\\' college student tells CNN 03:43\\nBut if the past 12 months have taught us anything, it\\'s that an alarming number of people are unmoved by statistics and facts. Anti-maskers made it very clear what they thought of graphs charting Covid cases or scientific research linking mask use to Covid prevention.\\nAlong similar lines, when it comes to anti-Asian hate crimes, an abundance of evidence doesn\\'t seem to matter to too many people.\\nThis is how it goes. People want proof a hate crime has been committed. You provide proof. They say your proof is \"anecdotal.\" You ask how many racial bias incidents it would take for them to be embarrassed by the word \"anecdotal.\" They shift the subject: The shooter doesn\\'t hate Asians; he hates women. No, he doesn\\'t hate women, exactly, he hates how they make him feel. Are you saying sex addiction isn\\'t a real malady? What about Bill Clinton?\\n\\nSo what can you do? How can you help? Morrison\\'s advice goes for everyone, regardless of background: Recognize when someone is creating a distraction and call them out on it. As tempting as it is to get caught up in ancillary arguments that are designed to put you on the defensive, keep asking the hard questions, and do not deviate. Don\\'t waste your sleuthing skills to get to the bottom of whether the women were sex workers; don\\'t get caught up on ontological debates about whether this shooting was more about sex or more about race.\\nWhen people are trying to distract you by tossing around lots of small questions, it\\'s usually because they are hiding one big, billboard-sized neon sign of a question.\\nResisting distraction is not just for marginalized groups. Anyone, regardless of background, can take the advice of Robert Owen, the 19th-century Welsh industrialist, philanthropist, social justice warrior — and white dude: \"Don\\'t argue. Repeat your assertion.\" Or in this case, repeat your question: How is this not a hate crime?\\nAsk until you get your answer.'], 'ac': ['It is striking to see how quickly our media has racialized the narrative of the horrific murders at the Georgia massage parlors. From what we know so far, the alleged murderer was a young man tormented by his compulsive sexual desires. He visited massage parlors in the past, and went to this one to kill the women he once depended on to gratify his desires. From all the available evidence, these killings were the misogynistic act of a sexually depraved man.\\n\\nBut the media and others are bound and determined to make this a racial thing, because six of the dead women are Asian. The same media who couldn’t figure out the racial angle when black men attacked Asians on the street without provocation now seem giddy over the prospect of an anti-Asian hate crime committed by a white man. The New York Times, for example: The Washington Post:\\n\\nThe alleged killer himself admitted that the motivation for his crime was sexual, not racial! But our media cannot allow that to stand. They are going to find a way to racialize the story no matter what.\\n\\nAnd not just the media. Evangelical commenter Ed Stetzer of Wheaton College writes:\\n\\nOh, come on. Absolutely Christians and everybody else ought to be opposed to anti-Asian racism. But Stetzer calls this “racially connected violence,” as if the fact that most of the victims were Asian makes racist motive clear. If these killings really are driven by racial hatred, then by all means let’s confront that demon and exorcise it. But there is no reason at this point to believe that. In many cities, if you want to go to a massage parlor for sexual activity, those places will be staffed by Asian women. It’s well worth asking why, and if these are women who were sexually trafficked into sex slavery. But at this point, we don’t even know if the killer had a sexual fetish for Asian women. All we know is that he went to massage parlors. It is more reasonable to think that he went to massage parlors for the same reason that Willie Sutton robbed banks: because that’s where the money is.\\n\\nThe alleged killer is also a Southern Baptist, so now we are seeing Southern Baptists demonized. Stetzer (who is Baptist) again:\\n\\nThe Washington Post wrote a story about the alleged killer’s connections to his Southern Baptist church. Excerpts:\\n\\nWait a damn minute here. The story says — correctly — that pastors preach on the apocalypse all the time, and the reporters don’t even know if the suspect was in church to hear that sermon. But they’re still going to bring it up. Why on earth would they do that, if not to connect a bog-standard Baptist sermon about the End Times to the murderous mindset of a man who the paper’s reporters don’t even know for sure was in church that day! \\n\\nThe story goes on to talk about how the murders might be connected to conservative Southern Baptist theology. There are something like 16 million Southern Baptists in America. About half of them are men. Eight million men have been exposed to some degree to conservative Southern Baptist teachings about sexual purity, but this is the first one who has gone out and shot women at a massage parlor. Does it even occur to these journalists and commentators that the problem here is not necessarily Southern Baptist theology, but a depraved young man? Of course not! Anything to destroy one’s culture war enemies.\\n\\nOf course I know nothing about how Southern Baptist churches teach sexuality. I may well agree on certain points with critics of their approach. But it is slanderous and inciteful on its face to blame Southern Baptist theology for these murders, with almost no evidence whatsoever.We know that serial killers often target prostitutes, for a variety of reasons, including a contempt for women who do sex work.If the women at these spas were prostitutes, then what Long is alleged to have done is explainable by misogyny, and his turning outward his hatred of himself for having uncontrollable sexual desires. We know that Long was so tormented by his demons — his obsessions with sex and pornography — that he went to rehab for sexual addiction.We also know that he was a quiet loner and weirdo in high school, who was sometimes bullied.\\n\\nEvery young Christian man who takes the teachings of his faith seriously, and tries to live by them, struggles to conquer sexual desire. This is normal. This does not turn them into monsters. Where are all the other Southern Baptist misogynist serial killers? They don’t exist. We are likely to find out that this Long fellow had deep psychological problems — again, he went to rehab for his sex addiction. But hey, why miss this opportunity to slander and slime conservative Southern Baptists. The fact that conservative Southern Baptists are against Critical Race Theory is, incredibly, also trotted out in this story — as if that had anything to do with mass murder.\\n\\nThe Post had this paragraph, which explains a lot of the coverage we’re seeing:\\n\\nAnd there it is: the alleged killer has said point blank that he did not target his victims because they were Asian, that their race was just a coincidence. But disparate impact theory makes his murders racist, even if the killer himself said they were not, and even if all the available evidence indicates that these killings were acts of a depraved man who was driven to homicide by his sexual urges. It just feels too good to our elites — media, professors, et alia — to blame their ideological enemies.\\n\\nI say this all the time on this blog, but it can’t be said often enough. Here is a quote from Live Not By Lies:\\n\\nFor these journalists, academics, preachers, politicians and other commenters, the most important thing to know about the mass murders in Atlanta is that the victims were Asian women, and the confessed killer was a white male Southern Baptist. No facts that complicate the narrative should be allowed to interfere with the conclusions drawn, which is that this is the fault of white supremacy and religious conservatism.\\n\\nWe are in the middle of a moral panic over race and racism in this country, a panic driven by the media and elite institutions. We are seeing a horrible act of mass murder being turned into a culture-war weapon by people who are not seeking understanding, but just looking for enemies, and looking to reinforce an intoxicating narrative.\\n\\nUPDATE: OK, OK, some of you are saying, “Why should we believe the killer when he says he didn’t kill out of racial motives?” Well, usually when someone confesses to a crime, and says, “This is why I did it,” we give them the benefit of the doubt, especially if the facts in the case fit the claim. We know that Long has a history of disordered sexuality, and went to rehab for sex addiction. He says he visited those massage parlors before. It stands to reason that a deeply religious man who is sexually compulsive and tormented by his desires would seek to eliminate what he believed to be the sources of his torment. (To be clear, those victims were innocent; the sources of Long’s torment were inside of Long.)\\n\\nThere is a single Korean media report in which someone says that the killer said he was going to “kill all Asians.”\\n\\nIt may yet come out that Long was motivated by racism. If so, let’s confront that ugly reality. My point is that people in the media, and in progressive circles, are acting as if they are excited to pin all of this on race hatred, when that may play little or no role at all in why that man killed all those people (not all of his victims were Asian, too).\\n\\nA bigmouth Evangelical race-baiter at The King’s College in New York is now trying to blame Long’s Baptist Church, and the 9Marks movement, for what Long did:\\n\\nThis is utter slander, and disgusting. Of course Bradley will get away with it.\\n\\nWe are moving towards a war of all against all.\\n\\nUPDATE.2: I think people must have this idea that Long chose to attack Asian massage parlors because he hates Asians. In fact, based on what we know at this point, he went to those massage parlors to kill because those were the ones he had gone to for sex.\\n\\nWhy would have have gone to Asian massage parlors for sex, and not to other massage parlors? Because low-end Asian massage parlors are often fronts for prostitution. The New York Times did a story on this phenomenon in 2019. Excerpts:\\n\\n\\nIf you are some country-hick Georgia Baptist who wants to see a prostitute, you are probably going to figure your best chance is to go to a strip-mall Asian massage parlor.\\n']}\n"
     ]
    }
   ],
   "source": [
    "# Print data\n",
    "print(data)"
   ]
  },
  {
   "cell_type": "code",
   "execution_count": 4,
   "metadata": {},
   "outputs": [
    {
     "data": {
      "text/plain": [
       "dict_keys(['nyt', 'fox', 'cnn', 'ac'])"
      ]
     },
     "execution_count": 4,
     "metadata": {},
     "output_type": "execute_result"
    }
   ],
   "source": [
    "data.keys()"
   ]
  },
  {
   "cell_type": "code",
   "execution_count": 5,
   "metadata": {},
   "outputs": [
    {
     "data": {
      "text/plain": [
       "['Among the first things I did upon learning about the shootings at three massage parlors in the Atlanta area was to check in with a former massage parlor worker I met in 2019. At the time, I was reporting an article about a prostitution raid at a Florida massage parlor.\\n\\nUnable to work during the pandemic, she was home alone when we spoke; the news from Atlanta hadn’t reached her yet. “Too frightening,” she said, when I sent her an article about what had happened. Robert Aaron Long, 21, who has been charged with the murder of eight people in Atlanta and nearby Acworth, six of them Asian women, had been arrested on his way to Florida — where she was — and where he planned on killing \\\\more, according to what he told the police. She worried for her colleagues. “Do you think someone will kill them? Am I in danger too?”\\n\\nI didn’t know how to respond, in part because I knew so little about those killed in Georgia: Hyun Jung Grant, 51; Suncha Kim, 69; Soon Chung Park, 74; Yong Ae Yu, 63. (Daoyou Feng, 44; Xiaojie Tan, 49; Paul Andre Michels, 54; and Delaina Ashley Yaun, 33, were victims identified earlier.) In some massage parlors, women, often Asian, may sometimes perform sexual services. But I did not know whether those who died this week would have identified themselves as sex workers.\\n\\nI have spent the past few years researching the various ways sex work intersects with race, class and gender, routinely amazed by how it connects to such disparate issues as criminal justice, gentrification, poverty, immigration and trans rights. I have come to understand sex work rights as an overlooked civil rights issue that deserves study. I soon found myself placing the Atlanta killings within the context of a horrific history.\\n\\nIn 1974, a soldier, Park Estep, 25, was convicted of a crime against two women at the Suezy Oriental Massage Parlor near Fort Carson in Colorado. According to court documents, he slashed the throat of Yon Cha Ye Lee, 32, an employee at the parlor, and stabbed her in the back. He then raped 36-year-old Sun Ok Cousin, the spa’s owner, before shooting her in the right temple, killing her and then setting her on fire. In 1993, Kenneth Markle III, 20, a medic at a U.S. military base in South Korea, was convicted of murdering Yun Kum-i, a 26-year-old sex worker. Her sexually-abused corpse was found near the base.\\n\\nSince the terrible events this past Tuesday, much effort has been devoted to understanding Mr. Long — an earnest inquiry that betrays a particular kind of American naïveté. He claimed to have been driven by “sexual addiction”; investigators have not yet ruled out race as a factor. For now, we do not know whether the massage parlor workers who were killed would have considered themselves sex workers, and we may never know. But the answer is less relevant to their deaths than their murderer’s answer: Does it matter how one identifies oneself if a mass killer conflates any Asian woman in a massage parlor with a sex worker?\\n\\nThe stereotype of the Asian woman as simultaneously hypersexualized and submissive is borne of centuries of Western imperialism. An early documented instance of Asian fetishization can be found in “Madame Chrysantheme,” a thinly fictionalized account of a French naval officer’s time visiting 19th-century Japan. “Madame Chrysantheme” was wildly popular when it was published, and went on to create a subgenre of Orientalizing prose. The women in such accounts were, as Edward Said wrote in “Orientalism,” “creatures of a male power-fantasy. They express unlimited sensuality, they are more or less stupid, and above all they are willing.”\\n\\nLater, an untold number of American servicemen in Korea and Vietnam had their first sexual encounter with Asian women. The U.S. military tacitly endorsed prostitution, considering it good for morale, and at times even explicitly encouraged troops to explore the local sex industry. According to the book “Sex Among Allies” by Katharine Moon, a professor of political science at Wellesley College, an ad in Stars and Stripes, the main military newspaper, read: “Picture having three or four of the loveliest creatures God ever created hovering around you, singing, dancing, feeding you, washing what they feed you down with rice wine or beer, all saying at once, ‘You are the greatest.’ This is the Orient you heard about and came to find.”\\n\\nYuri Doolan, an assistant professor of history and of women’s, gender and sexuality studies at Brandeis University, has written that the first Korean massage parlor workers most likely came to the United States in the 1950s after the United States reduced its forces in South Korea after the war there. They were unlikely to have been massage parlor workers before they came: The son of one of the victims has said his mother told him she was a teacher before coming to the United States.\\n\\nThese women, the first thousand or so, likely met their servicemen husbands in base towns across South Korea that sprang up during the Korean War, and the American occupation that followed.\\n\\nIn 1986 when the Immigration and Naturalization Service created the Korean Organized Crime Task Force to fight the scourge of its time, Korean prostitution, the authorities estimated that some 90 percent of massage parlor workers in the United States had come to the country as G.I. brides. These women followed their husbands to military bases. Once settled, some opened massage parlors, among the few opportunities for employment and financial autonomy available to immigrant women.\\n\\nBut beyond this specific history, structural violence against Asians in the United States has long been institutionalized. The racist, sexist nature of American society is hardly some aberrant, recent phenomenon that can be fixed through minor reform.\\n\\nIn 1882, the Chinese Exclusion Act became the first and only major federal law to exclude a specific ethnic group from entering the United States. It codified in federal law the xenophobia that had been building since the economic depression after the Civil War, in which Chinese laborers were blamed for taking jobs away from white people. The 19th and early 20th centuries saw horrific violence against Asian communities, including the 1887 Hells Canyon massacre, in which as many as 34 Chinese miners were killed, and the 1907 Bellingham riots, which drove out the entire South Asian population within three days.\\n\\nPredating the Chinese Exclusion Act was the lesser-known Page Law of 1875, which was mostly applied to Chinese immigrants and allowed the barring of entry to those deemed to have agreed to services with “lewd and immoral purposes.” Immigration officials asked every female applicant, “Are you a virtuous woman?” They “apparently operated on the premise that every Chinese woman was seeking admission on false pretenses, and that each was a potential prostitute until proven otherwise,” according to “Unbound Feet” by Judy Yung, a historian and emerita professor of American studies at the University of California, Santa Cruz.\\n\\nIn this way, the Asian woman became an object of hatred, and lust, a thing to loathe, then desire, the distance between yellow peril and yellow fever measured in flashes.\\n\\nIt is hard to know what motivates a person. Early reporting has pointed to the tension between Mr. Long’s religious beliefs and sexual behavior he saw as compulsive, and the way this tension may have warped him. But Mr. Long is also a white man born in 21st-century America, a country with a rich history of violence against Asians. A place where the previous president was among the first to call Covid-19 the “Kung Flu,” and the “China virus,” possibly sowing the seeds for the nearly 3,800 acts of violence against Asians — mostly women — that followed. Did this history allow Mr. Long to see murder as a way of eliminating “temptation,” as he has said — a way of viewing Asians as expendable?\\n\\nThe events were also informed by class: These women, some of whom were working class, almost certainly died because they were at work. As working women of color, they existed at the terrible nexus of race, gender and class. It is, of course, often women who don’t speak English or are undocumented who are locked out of traditional labor markets, or are otherwise marginalized.\\n\\nMany have framed the Atlanta spa shootings as a hate crime against the Asian community. Hate crime is a legal designation that serves to justify more policing. Despite being seen as a candidate supporting decriminalization of sex work, the New York City mayoral candidate Andrew Yang took the occasion to call for more funding of the New York Police Department’s Asian Hate Crime Task Force. The Atlanta police deployed additional patrols across the city, as did the N.Y.P.D., despite the fact that the police are the sources of instability in the massage-parlor-worker community. The irony is, of course, that had the women in Atlanta not been killed, they would have probably run the risk of being arrested by the very same law enforcement officers.\\n\\nIt is the instinct of the living to commemorate the dead, to make their passing not be in vain. I, too, am vulnerable to such impulses, and so I end by saying Georgia reminds us — I hope — that anti-Asian violence is also anti-women violence, anti-poor violence, and anti-sex-work violence, that our fates are entwined, that fighting oppression means fighting oppression not just in one’s own narrowly defined community, but also everywhere.']"
      ]
     },
     "execution_count": 5,
     "metadata": {},
     "output_type": "execute_result"
    }
   ],
   "source": [
    "data['nyt']"
   ]
  },
  {
   "cell_type": "markdown",
   "metadata": {},
   "source": [
    "## PART 2: Cleaning Data\n",
    "* lower case\n",
    "* remove punctuation\n",
    "* remove numbers\n",
    "* remove common text\n",
    "* tokenize\n",
    "* remove stop words\n"
   ]
  },
  {
   "cell_type": "code",
   "execution_count": 6,
   "metadata": {},
   "outputs": [
    {
     "name": "stdout",
     "output_type": "stream",
     "text": [
      "Index(['nyt', 'fox', 'cnn', 'ac'], dtype='object')\n"
     ]
    },
    {
     "data": {
      "text/html": [
       "<div>\n",
       "<style scoped>\n",
       "    .dataframe tbody tr th:only-of-type {\n",
       "        vertical-align: middle;\n",
       "    }\n",
       "\n",
       "    .dataframe tbody tr th {\n",
       "        vertical-align: top;\n",
       "    }\n",
       "\n",
       "    .dataframe thead th {\n",
       "        text-align: right;\n",
       "    }\n",
       "</style>\n",
       "<table border=\"1\" class=\"dataframe\">\n",
       "  <thead>\n",
       "    <tr style=\"text-align: right;\">\n",
       "      <th></th>\n",
       "      <th>article</th>\n",
       "    </tr>\n",
       "  </thead>\n",
       "  <tbody>\n",
       "    <tr>\n",
       "      <th>nyt</th>\n",
       "      <td>Among the first things I did upon learning about the shootings at three massage parlors in the Atlanta area was to check in with a former massage ...</td>\n",
       "    </tr>\n",
       "    <tr>\n",
       "      <th>fox</th>\n",
       "      <td>On the afternoon of March 16, police say, a 21-year-old man called Robert Aaron Long walked into a massage parlor outside Atlanta and shot five pe...</td>\n",
       "    </tr>\n",
       "    <tr>\n",
       "      <th>cnn</th>\n",
       "      <td>At an office where I worked some years ago, a male co-worker would repeatedly stop by my desk and interrupt my work to talk about sex. One of my c...</td>\n",
       "    </tr>\n",
       "    <tr>\n",
       "      <th>ac</th>\n",
       "      <td>It is striking to see how quickly our media has racialized the narrative of the horrific murders at the Georgia massage parlors. From what we know...</td>\n",
       "    </tr>\n",
       "  </tbody>\n",
       "</table>\n",
       "</div>"
      ],
      "text/plain": [
       "                                                                                                                                                   article\n",
       "nyt  Among the first things I did upon learning about the shootings at three massage parlors in the Atlanta area was to check in with a former massage ...\n",
       "fox  On the afternoon of March 16, police say, a 21-year-old man called Robert Aaron Long walked into a massage parlor outside Atlanta and shot five pe...\n",
       "cnn  At an office where I worked some years ago, a male co-worker would repeatedly stop by my desk and interrupt my work to talk about sex. One of my c...\n",
       "ac   It is striking to see how quickly our media has racialized the narrative of the horrific murders at the Georgia massage parlors. From what we know..."
      ]
     },
     "execution_count": 6,
     "metadata": {},
     "output_type": "execute_result"
    }
   ],
   "source": [
    "# Put into a dataframe\n",
    "import pandas as pd\n",
    "pd.set_option('max_colwidth',150)\n",
    "data_df = pd.DataFrame.from_dict(data, orient=\"index\")\n",
    "data_df.columns = ['article']\n",
    "print(data_df.index)\n",
    "data_df"
   ]
  },
  {
   "cell_type": "code",
   "execution_count": 7,
   "metadata": {},
   "outputs": [],
   "source": [
    "# First Round of Text Cleaning\n",
    "import re\n",
    "import string\n",
    "\n",
    "def clean_round1(text):\n",
    "    text = text.lower()\n",
    "    text = re.sub('b\\'', '', text)\n",
    "    text = re.sub('\\\\n', '', text) \n",
    "    # text = re.sub('nnn', ' n', text)\n",
    "    text = re.sub('[%s]' % re.escape(string.punctuation), '', text) # remove punctuation\n",
    "    text = re.sub('“', '', text)\n",
    "    text = re.sub('”', '', text)\n",
    "    text = re.sub('’', '', text)\n",
    "    text = re.sub('\\w*\\d\\w*', '', text) # remove numbers\n",
    "    text = re.sub('—', ' ', text)\n",
    "    \n",
    "\n",
    "    print(text)\n",
    "    return text\n",
    "\n",
    "# round1 = lambda x: clean_round1(x)"
   ]
  },
  {
   "cell_type": "code",
   "execution_count": 8,
   "metadata": {},
   "outputs": [
    {
     "name": "stdout",
     "output_type": "stream",
     "text": [
      "among the first things i did upon learning about the shootings at three massage parlors in the atlanta area was to check in with a former massage parlor worker i met in  at the time i was reporting an article about a prostitution raid at a florida massage parlornnunable to work during the pandemic she was home alone when we spoke the news from atlanta hadnt reached her yet too frightening she said when i sent her an article about what had happened robert aaron long  who has been charged with the murder of eight people in atlanta and nearby acworth six of them asian women had been arrested on his way to florida   where she was   and where he planned on killing more according to what he told the police she worried for her colleagues do you think someone will kill them am i in danger toonni didnt know how to respond in part because i knew so little about those killed in georgia hyun jung grant  suncha kim  soon chung park  yong ae yu  daoyou feng  xiaojie tan  paul andre michels  and delaina ashley yaun  were victims identified earlier in some massage parlors women often asian may sometimes perform sexual services but i did not know whether those who died this week would have identified themselves as sex workersnni have spent the past few years researching the various ways sex work intersects with race class and gender routinely amazed by how it connects to such disparate issues as criminal justice gentrification poverty immigration and trans rights i have come to understand sex work rights as an overlooked civil rights issue that deserves study i soon found myself placing the atlanta killings within the context of a horrific historynnin  a soldier park estep  was convicted of a crime against two women at the suezy oriental massage parlor near fort carson in colorado according to court documents he slashed the throat of yon cha ye lee  an employee at the parlor and stabbed her in the back he then raped  sun ok cousin the spas owner before shooting her in the right temple killing her and then setting her on fire in  kenneth markle iii  a medic at a us military base in south korea was convicted of murdering yun kumi a  sex worker her sexuallyabused corpse was found near the basennsince the terrible events this past tuesday much effort has been devoted to understanding mr long   an earnest inquiry that betrays a particular kind of american naïveté he claimed to have been driven by sexual addiction investigators have not yet ruled out race as a factor for now we do not know whether the massage parlor workers who were killed would have considered themselves sex workers and we may never know but the answer is less relevant to their deaths than their murderers answer does it matter how one identifies oneself if a mass killer conflates any asian woman in a massage parlor with a sex workernnthe stereotype of the asian woman as simultaneously hypersexualized and submissive is borne of centuries of western imperialism an early documented instance of asian fetishization can be found in madame chrysantheme a thinly fictionalized account of a french naval officers time visiting  japan madame chrysantheme was wildly popular when it was published and went on to create a subgenre of orientalizing prose the women in such accounts were as edward said wrote in orientalism creatures of a male powerfantasy they express unlimited sensuality they are more or less stupid and above all they are willingnnlater an untold number of american servicemen in korea and vietnam had their first sexual encounter with asian women the us military tacitly endorsed prostitution considering it good for morale and at times even explicitly encouraged troops to explore the local sex industry according to the book sex among allies by katharine moon a professor of political science at wellesley college an ad in stars and stripes the main military newspaper read picture having three or four of the loveliest creatures god ever created hovering around you singing dancing feeding you washing what they feed you down with rice wine or beer all saying at once ‘you are the greatest this is the orient you heard about and came to findnnyuri doolan an assistant professor of history and of womens gender and sexuality studies at brandeis university has written that the first korean massage parlor workers most likely came to the united states in the  after the united states reduced its forces in south korea after the war there they were unlikely to have been massage parlor workers before they came the son of one of the victims has said his mother told him she was a teacher before coming to the united statesnnthese women the first thousand or so likely met their servicemen husbands in base towns across south korea that sprang up during the korean war and the american occupation that followednnin  when the immigration and naturalization service created the korean organized crime task force to fight the scourge of its time korean prostitution the authorities estimated that some  percent of massage parlor workers in the united states had come to the country as gi brides these women followed their husbands to military bases once settled some opened massage parlors among the few opportunities for employment and financial autonomy available to immigrant womennnbut beyond this specific history structural violence against asians in the united states has long been institutionalized the racist sexist nature of american society is hardly some aberrant recent phenomenon that can be fixed through minor reformnnin  the chinese exclusion act became the first and only major federal law to exclude a specific ethnic group from entering the united states it codified in federal law the xenophobia that had been building since the economic depression after the civil war in which chinese laborers were blamed for taking jobs away from white people the  and early  centuries saw horrific violence against asian communities including the  hells canyon massacre in which as many as  chinese miners were killed and the  bellingham riots which drove out the entire south asian population within three daysnnpredating the chinese exclusion act was the lesserknown page law of  which was mostly applied to chinese immigrants and allowed the barring of entry to those deemed to have agreed to services with lewd and immoral purposes immigration officials asked every female applicant are you a virtuous woman they apparently operated on the premise that every chinese woman was seeking admission on false pretenses and that each was a potential prostitute until proven otherwise according to unbound feet by judy yung a historian and emerita professor of american studies at the university of california santa cruznnin this way the asian woman became an object of hatred and lust a thing to loathe then desire the distance between yellow peril and yellow fever measured in flashesnnit is hard to know what motivates a person early reporting has pointed to the tension between mr longs religious beliefs and sexual behavior he saw as compulsive and the way this tension may have warped him but mr long is also a white man born in  america a country with a rich history of violence against asians a place where the previous president was among the first to call  the kung flu and the china virus possibly sowing the seeds for the nearly  acts of violence against asians   mostly women   that followed did this history allow mr long to see murder as a way of eliminating temptation as he has said   a way of viewing asians as expendablennthe events were also informed by class these women some of whom were working class almost certainly died because they were at work as working women of color they existed at the terrible nexus of race gender and class it is of course often women who dont speak english or are undocumented who are locked out of traditional labor markets or are otherwise marginalizednnmany have framed the atlanta spa shootings as a hate crime against the asian community hate crime is a legal designation that serves to justify more policing despite being seen as a candidate supporting decriminalization of sex work the new york city mayoral candidate andrew yang took the occasion to call for more funding of the new york police departments asian hate crime task force the atlanta police deployed additional patrols across the city as did the nypd despite the fact that the police are the sources of instability in the massageparlorworker community the irony is of course that had the women in atlanta not been killed they would have probably run the risk of being arrested by the very same law enforcement officersnnit is the instinct of the living to commemorate the dead to make their passing not be in vain i too am vulnerable to such impulses and so i end by saying georgia reminds us   i hope   that antiasian violence is also antiwomen violence antipoor violence and antisexwork violence that our fates are entwined that fighting oppression means fighting oppression not just in ones own narrowly defined community but also everywhere\n",
      "on the afternoon of march  police say a  man called robert aaron long walked into a massage parlor outside atlanta and shot five people long then drove to two other massage parlors in the city and shot another four of the nine people robert long is accused of shooting two were white one was hispanic and the other six were asian women of those six women according to the south korean government at least four of them were koreannnpolice caught robert long within hours as he was driving his hyundai south on interstate  at the sheriffs department press conference the next day captain jay baker explained what happened nextnncherokee county sheriffs office captain jay baker the suspect did take responsibility for the shootings he said that early on once we began the interviews with him he claims that these and as the chief said this is still early but he does claim that it was not racially motivated he apparently has an issue what he considers sex addiction and sees these locations as something that allows him to go to these places and its a temptation for him that he wanted to eliminatennso the police took a long and detailed statement from robert long and to restate heres what they found long immediately confessed to the crimes but while he admitted to committing multiple murders   a death penalty offense in the state of georgia   long denied having any racial motivation instead he told police he had a sex addiction and an issue with porn and that he shot up massage parlors in an effort to eliminate his own temptation to visit themnnpolice arrested long as he was heading to florida where he said hed planned to kill more people in the sex industry so robert long was fixated on prostitution and pornography and thats why he said he committed the murders the next day information came to light that seemed to confirm his story a man called tyler bayless said he shared a room with long in a georgia rehab facility last year bayless was there for drugs but long was there for sex addictionnnit was something that absolutely would torture him bayless said while at the facility long frequently relapsed and went to massage parlors explicitly to engage in sex actsnnas a result of this torment he said he experienced long says he shot eight peoplenna ninth victim  elcias hernandezortiz remains in the hospital in critical condition according to police hernandezortiz had nothing to do with prostitution whatsoever he just happened to be walking past a massage parlor on the way to another business when long shot himnnatlanta shooting suspect a sex addict who was kicked out of home by parents nancy gracevideonso those are the facts as we understand them an honest reporter might follow those facts in a number of obvious directions robert long seems deranged but his obsessive and violent behavior seems sadly familiar if you follow the news closely an increasing number of americans struggle with mental illness it would be worth knowing much more about robert longs life if only to try to prevent the next mass shootingnnthen theres the very real question of sex addiction which we should not laugh off why is there so much prostitution in atlanta google business listings show more massage parlors in the city than starbucks outlets who works in these places and under what conditions thats not a hard question to answer wikipedia has an entire entry on human trafficking in the state of georgia according to the department of justice atlanta is a major transportation hub for trafficking young girls and one of the fourteen us cities with the highest levels of child sex traffickingnna competent media might tell us more about this knowing more facts and rationally assessing them might improve this country but its not the coverage were getting its not even close to the coverage we are gettingnninstead the usual liars are describing the massacre in atlanta as the one thing it apparently wasnt a racial attack white supremacy and hate are haunting asian americans cnn confidently announced in a headline nndavid leebron the president of rice university in texas and a man who is supposed to be a scholar may have been watching this he immediately issued a statement that got key facts about the killings completely wrong not that facts were the point of the statement the point was making that sure everyone understood the political lessonnnthe deliberate use of such terms as ‘the china virus to foster bigotry has played a significant role leebron intoned as if he knew that to be true he didnt because theres no evidence he continued sadly and predictably this escalation of raciallybased hatred has led to violencennleebron is telling us it was all entirely predictable because once you describe a chinese virus as chinese people are naturally going to start murdering korean women you could have seen that coming nnharvard couldnt resist getting involved bigotry against asians is a sensitive subject at harvard university given that it is one of the very few institutions in american life that has publicly admitted committing it many schools do but harvard got caught over the course of many years harvard has denied admission to asian students precisely because they are asian if theres a clearer definition of bigotry than this its hard to imagine what it might be harvard doesnt want to talk about it and a mass murder in atlanta was the perfect way to change the subjectnnfor the past year harvard administrators wrote asians asian americans and pacific islanders have been blamed for the pandemic once again if you dare note that the novel coronavirus came from wuhan a mentally ill sex addict is certain to shoot up a brothel in atlantannseem farfetched the white house press secretary agreed with itnnjen psaki you know i think theres no question that some of the damaging rhetoric that we saw during the prior administration blaming   you know calling covid you know the ‘wuhan virus or other things led to you know perceptions of the asianamerican community that are inaccurate unfairnnso white supremacists did it its such a lie asianamericans do suffer quite a few violent attacks in this country unfortunately but theres zero evidence that a rise in white supremacy is driving those attacks we dont have to guess about this because the justice department keeps the numbers according to federal statistics africanamerican perpetrators are more likely than any other group to attack asianamericans it happens quite a bitnnmost racial violence in this country most violence of all kinds occurs within racial groups whites are the most likely to attack whites blacks are the most likely to attack blacks etc the only exception we found were asians asians were more likely to be attacked by africanamericans than by members of their own ethnicitynnwhy is that we cant say for sure and were not going to speculate unlike the other cable channels we will not draw grand and divisive conclusions from this or any data about race its always wrong to blame an entire group for anything ever treat people as individuals first   thats the whole point of america we can say this has been going on for quite a while as anyone who lives in a city well knowsnntensions between africanamericans and immigrant korean store owners for example were a central factor in the  los angeles riots it wasnt qanon that made violent threats against asian shopkeepers in new york in the  it was al sharpton and so on as noted this kind of violence has a long history though the media have done their best to ignore itnnbut now theyre lying to us at very high volume why are they doing that because they need to the democratic coalition is profoundly unstable and becoming more so take a look at the election results allhispanic counties on the mexican border turned red overnight the rise of blm and the riots they led over the summer is a big part of why that is happening decadent white liberals loved the whole thing but no one else did blm came out in favor of abolishing the nuclear family and looting and burning small businessesnnif youre a bearded nihilist living in williamsburg brooklyn with a degree in gender studies from oberlin that might sound pretty great if youre an immigrant chinese or salvadoran running a restaurant or a dry cleaning business it definitely doesnt sound great you care most of all about your family you desperately need your business so the democratic party is at risk of losing voters like this again look at the last election results carefully at this point the medias job is to remind these voters they need to stay in the democratic party because the real enemy is straight white men so thats what theyre doingnnnicolle wallace msnbc i just keep thinking of that domestic terror alert warning we got shortly after the insurrection it warned us that until the end of april wed be living under the threat of domestic violence extremism from a combination of white supremacists militias and extremists who are angry about both the election results because of donald trumps big lie and the covid restrictions i wonder if you can speak to the intersection of that group we were warned about publicly and the targeting of asian americansnnwhite supremacists and militias who were angry about covid restrictions thats who committed mass murder in atlanta on tuesday its tempting to laugh at lies like this and at that buffoon nicolle wallace especially whod believe a word she says but keep in mind the more they say it the more people believe it and the more power they can grab on the basis of those lies  nnwe have seen that happen in the two months since jan  at first it was almost amusing to hear them call that a white supremacist insurrection it was so stupid but now two months later its all but established history theyre changing the country on the basis of those lies they repeat them until people believe them and then they act never underestimate the power of propaganda thats why they use it its not an accidentnnnew york city mayor bill de blasio is wasting no time he is already using what happened in atlanta on tuesday to justify siccing the nypd on anyone who disagrees with himnnde blasio i also think even if something is not a criminal case a perpetrator being confronted by the city  whether its nypd or another agency – and being told that what they did was very hurtful to another person and could if ever repeated could lead to criminal charges – thats another important piece of the puzzlenneven if something is not a criminal case the police can respond even if its not a crime what is de blasio saying here the mayor of new york is calling for armed thought police in americas biggest city laugh if you want at that de blasios a joke right just wait what sounds absurd today becomes established practice sooner than you think\n",
      "at an office where i worked some years ago a male coworker would repeatedly stop by my desk and interrupt my work to talk about sex one of my colleagues who got fed up overhearing this made a sexual harassment complaint on my behalf to the human resources department without my permission not that i cared i got called in by hr and was told i have heard your complaint about racial discrimination i think it is invalidnnhuh i hadnt said anything about race nor as far as anyone ever told me had my colleague who had reported the talking about sex behavior the hr staffer then started to say something about sex discrimination which i hadnt mentioned either then this person said that there was a separate procedure for each of these complaints and that i had to pick one hr was attempting to claim metaphorically speaking that the crime scene was too messy to investigate in other words the company was pulling a classic magicians trick misdirectionnnwith the recent shooting at three spas in atlanta georgia in which eight women   six of whom were asian   were killed a similar dynamic appears to be at play but on a significantly more serious scale days after the shooting local law enforcement has yet to call this a hate crime instead they have been shuffling around several potential   and inaccurate   labels like a shell game on a street corner the alleged shooter told police essentially that he was suffering from horniness apparently the kind that only a gun could fix and got up on the wrong side of the bed   dont know the result misdirectionnnto be absolutely clear atlanta mayor keisha lance bottoms has done the right thing telling cnn it looked like a hate crime to me but as far as her citys law enforcement is concerned we are just not there as of yet in the words of rodney bryant the acting chief of the atlanta police department fbi director christopher wray echoed the apds stance telling npr in an interview published on thursday it does not appear that the motive was racially motivated but i really would defer to the state and local investigation on that for nownna captain with the cherokee county sheriffs office referred to robert aaron longs alleged sex addiction as a possible motive capt jay baker offered in a press conference wednesday that the confessed shooters motive seemed to be lust a temptation  that he wanted to eliminate baker has since been removed from the case but the damage is done hes already used his influence to sell   on national tv   the standard cocktail of sexual fetishism asian females and provoked violencenremarks such as bakers imply that the victims were sex workers even though bottoms stated that the spas were legally operating businesses with no police records of wrongdoing besides which who cares what a persons job is at the time of their slaughter if you think that having a respectable occupation can spare you from a wanton murder spree please tell your kid that if theres a school shooting they should show the shooter their student idnndo not let them confuse younndid long have other motives besides race yesterday was a really bad day for him baker told reporters wednesday by way of explaining longs alleged actions what a compassionate mensch this baker is his was a display of empathy in the true sense the word as has since been widely reported bakers social media appears to have been plugging tshirts last year bearing the slogan  imported virus from chyna the account that posted it has been deleted and when contacted by cnn about the post baker told cnn no additional commentnyou see whats going on here right as the late writer toni morrison famously said in a  lecture on race the function the very serious function of racism is distraction it keeps you from doing your work  it really is the red flag that the toreador dances before the head of a bull its purpose  to keep the bulls mind away from his power and his energynthe atlanta killings come on the heels of a growing spate of antiasian attacks taking various forms some violent and random some verbal and vengeful i could name them but after a certain point its just an exercise in seeing how high you can count its tempting to want to just stop and turn away which is exactly what hate crime skeptics want you to do   detach from the human realitynthe watchdog group stop aapi hate which started tracking antiasian attacks shortly after the covid pandemic began released a report just before news of the atlanta shooting broke the group received  complaints of racism and discrimination since this time last year and according to a study of police data released by the center for the study of hate and extremism at california state university in san bernardino hate crimes against asian americans in  us cities rose  in  over the previous year new york city saw an alarming  rise during the same   want to be asian at  college student tells cnn nni didnt want to be asian at all college student tells cnn  if the past  months have taught us anything its that an alarming number of people are unmoved by statistics and facts antimaskers made it very clear what they thought of graphs charting covid cases or scientific research linking mask use to covid preventionnalong similar lines when it comes to antiasian hate crimes an abundance of evidence doesnt seem to matter to too many peoplenthis is how it goes people want proof a hate crime has been committed you provide proof they say your proof is anecdotal you ask how many racial bias incidents it would take for them to be embarrassed by the word anecdotal they shift the subject the shooter doesnt hate asians he hates women no he doesnt hate women exactly he hates how they make him feel are you saying sex addiction isnt a real malady what about bill clintonnnso what can you do how can you help morrisons advice goes for everyone regardless of background recognize when someone is creating a distraction and call them out on it as tempting as it is to get caught up in ancillary arguments that are designed to put you on the defensive keep asking the hard questions and do not deviate dont waste your sleuthing skills to get to the bottom of whether the women were sex workers dont get caught up on ontological debates about whether this shooting was more about sex or more about racenwhen people are trying to distract you by tossing around lots of small questions its usually because they are hiding one big billboardsized neon sign of a questionnresisting distraction is not just for marginalized groups anyone regardless of background can take the advice of robert owen the  welsh industrialist philanthropist social justice warrior   and white dude dont argue repeat your assertion or in this case repeat your question how is this not a hate crimenask until you get your answer\n",
      "it is striking to see how quickly our media has racialized the narrative of the horrific murders at the georgia massage parlors from what we know so far the alleged murderer was a young man tormented by his compulsive sexual desires he visited massage parlors in the past and went to this one to kill the women he once depended on to gratify his desires from all the available evidence these killings were the misogynistic act of a sexually depraved mannnbut the media and others are bound and determined to make this a racial thing because six of the dead women are asian the same media who couldnt figure out the racial angle when black men attacked asians on the street without provocation now seem giddy over the prospect of an antiasian hate crime committed by a white man the new york times for example the washington postnnthe alleged killer himself admitted that the motivation for his crime was sexual not racial but our media cannot allow that to stand they are going to find a way to racialize the story no matter whatnnand not just the media evangelical commenter ed stetzer of wheaton college writesnnoh come on absolutely christians and everybody else ought to be opposed to antiasian racism but stetzer calls this racially connected violence as if the fact that most of the victims were asian makes racist motive clear if these killings really are driven by racial hatred then by all means lets confront that demon and exorcise it but there is no reason at this point to believe that in many cities if you want to go to a massage parlor for sexual activity those places will be staffed by asian women its well worth asking why and if these are women who were sexually trafficked into sex slavery but at this point we dont even know if the killer had a sexual fetish for asian women all we know is that he went to massage parlors it is more reasonable to think that he went to massage parlors for the same reason that willie sutton robbed banks because thats where the money isnnthe alleged killer is also a southern baptist so now we are seeing southern baptists demonized stetzer who is baptist againnnthe washington post wrote a story about the alleged killers connections to his southern baptist church excerptsnnwait a damn minute here the story says   correctly   that pastors preach on the apocalypse all the time and the reporters dont even know if the suspect was in church to hear that sermon but theyre still going to bring it up why on earth would they do that if not to connect a bogstandard baptist sermon about the end times to the murderous mindset of a man who the papers reporters dont even know for sure was in church that day nnthe story goes on to talk about how the murders might be connected to conservative southern baptist theology there are something like  million southern baptists in america about half of them are men eight million men have been exposed to some degree to conservative southern baptist teachings about sexual purity but this is the first one who has gone out and shot women at a massage parlor does it even occur to these journalists and commentators that the problem here is not necessarily southern baptist theology but a depraved young man of course not anything to destroy ones culture war enemiesnnof course i know nothing about how southern baptist churches teach sexuality i may well agree on certain points with critics of their approach but it is slanderous and inciteful on its face to blame southern baptist theology for these murders with almost no evidence whatsoeverwe know that serial killers often target prostitutes for a variety of reasons including a contempt for women who do sex workif the women at these spas were prostitutes then what long is alleged to have done is explainable by misogyny and his turning outward his hatred of himself for having uncontrollable sexual desires we know that long was so tormented by his demons   his obsessions with sex and pornography   that he went to rehab for sexual addictionwe also know that he was a quiet loner and weirdo in high school who was sometimes bulliednnevery young christian man who takes the teachings of his faith seriously and tries to live by them struggles to conquer sexual desire this is normal this does not turn them into monsters where are all the other southern baptist misogynist serial killers they dont exist we are likely to find out that this long fellow had deep psychological problems   again he went to rehab for his sex addiction but hey why miss this opportunity to slander and slime conservative southern baptists the fact that conservative southern baptists are against critical race theory is incredibly also trotted out in this story   as if that had anything to do with mass murdernnthe post had this paragraph which explains a lot of the coverage were seeingnnand there it is the alleged killer has said point blank that he did not target his victims because they were asian that their race was just a coincidence but disparate impact theory makes his murders racist even if the killer himself said they were not and even if all the available evidence indicates that these killings were acts of a depraved man who was driven to homicide by his sexual urges it just feels too good to our elites   media professors et alia   to blame their ideological enemiesnni say this all the time on this blog but it cant be said often enough here is a quote from live not by liesnnfor these journalists academics preachers politicians and other commenters the most important thing to know about the mass murders in atlanta is that the victims were asian women and the confessed killer was a white male southern baptist no facts that complicate the narrative should be allowed to interfere with the conclusions drawn which is that this is the fault of white supremacy and religious conservatismnnwe are in the middle of a moral panic over race and racism in this country a panic driven by the media and elite institutions we are seeing a horrible act of mass murder being turned into a culturewar weapon by people who are not seeking understanding but just looking for enemies and looking to reinforce an intoxicating narrativennupdate ok ok some of you are saying why should we believe the killer when he says he didnt kill out of racial motives well usually when someone confesses to a crime and says this is why i did it we give them the benefit of the doubt especially if the facts in the case fit the claim we know that long has a history of disordered sexuality and went to rehab for sex addiction he says he visited those massage parlors before it stands to reason that a deeply religious man who is sexually compulsive and tormented by his desires would seek to eliminate what he believed to be the sources of his torment to be clear those victims were innocent the sources of longs torment were inside of longnnthere is a single korean media report in which someone says that the killer said he was going to kill all asiansnnit may yet come out that long was motivated by racism if so lets confront that ugly reality my point is that people in the media and in progressive circles are acting as if they are excited to pin all of this on race hatred when that may play little or no role at all in why that man killed all those people not all of his victims were asian toonna bigmouth evangelical racebaiter at the kings college in new york is now trying to blame longs baptist church and the  movement for what long didnnthis is utter slander and disgusting of course bradley will get away with itnnwe are moving towards a war of all against  i think people must have this idea that long chose to attack asian massage parlors because he hates asians in fact based on what we know at this point he went to those massage parlors to kill because those were the ones he had gone to for sexnnwhy would have have gone to asian massage parlors for sex and not to other massage parlors because lowend asian massage parlors are often fronts for prostitution the new york times did a story on this phenomenon in  excerptsnnnif you are some countryhick georgia baptist who wants to see a prostitute you are probably going to figure your best chance is to go to a stripmall asian massage parlorn\n"
     ]
    }
   ],
   "source": [
    "# Apply cleaning to the rounds\n",
    "for i in range(len(keys)):\n",
    "    text = str(data[keys[i]])\n",
    "    data_df.iloc[i, 0] = clean_round1(text)"
   ]
  },
  {
   "cell_type": "code",
   "execution_count": 9,
   "metadata": {},
   "outputs": [
    {
     "data": {
      "text/html": [
       "<div>\n",
       "<style scoped>\n",
       "    .dataframe tbody tr th:only-of-type {\n",
       "        vertical-align: middle;\n",
       "    }\n",
       "\n",
       "    .dataframe tbody tr th {\n",
       "        vertical-align: top;\n",
       "    }\n",
       "\n",
       "    .dataframe thead th {\n",
       "        text-align: right;\n",
       "    }\n",
       "</style>\n",
       "<table border=\"1\" class=\"dataframe\">\n",
       "  <thead>\n",
       "    <tr style=\"text-align: right;\">\n",
       "      <th></th>\n",
       "      <th>article</th>\n",
       "    </tr>\n",
       "  </thead>\n",
       "  <tbody>\n",
       "    <tr>\n",
       "      <th>nyt</th>\n",
       "      <td>among the first things i did upon learning about the shootings at three massage parlors in the atlanta area was to check in with a former massage ...</td>\n",
       "    </tr>\n",
       "    <tr>\n",
       "      <th>fox</th>\n",
       "      <td>on the afternoon of march  police say a  man called robert aaron long walked into a massage parlor outside atlanta and shot five people long then ...</td>\n",
       "    </tr>\n",
       "    <tr>\n",
       "      <th>cnn</th>\n",
       "      <td>at an office where i worked some years ago a male coworker would repeatedly stop by my desk and interrupt my work to talk about sex one of my coll...</td>\n",
       "    </tr>\n",
       "    <tr>\n",
       "      <th>ac</th>\n",
       "      <td>it is striking to see how quickly our media has racialized the narrative of the horrific murders at the georgia massage parlors from what we know ...</td>\n",
       "    </tr>\n",
       "  </tbody>\n",
       "</table>\n",
       "</div>"
      ],
      "text/plain": [
       "                                                                                                                                                   article\n",
       "nyt  among the first things i did upon learning about the shootings at three massage parlors in the atlanta area was to check in with a former massage ...\n",
       "fox  on the afternoon of march  police say a  man called robert aaron long walked into a massage parlor outside atlanta and shot five people long then ...\n",
       "cnn  at an office where i worked some years ago a male coworker would repeatedly stop by my desk and interrupt my work to talk about sex one of my coll...\n",
       "ac   it is striking to see how quickly our media has racialized the narrative of the horrific murders at the georgia massage parlors from what we know ..."
      ]
     },
     "execution_count": 9,
     "metadata": {},
     "output_type": "execute_result"
    }
   ],
   "source": [
    "# Create Corpus\n",
    "data_df"
   ]
  },
  {
   "cell_type": "code",
   "execution_count": 10,
   "metadata": {
    "scrolled": false
   },
   "outputs": [
    {
     "data": {
      "text/html": [
       "<div>\n",
       "<style scoped>\n",
       "    .dataframe tbody tr th:only-of-type {\n",
       "        vertical-align: middle;\n",
       "    }\n",
       "\n",
       "    .dataframe tbody tr th {\n",
       "        vertical-align: top;\n",
       "    }\n",
       "\n",
       "    .dataframe thead th {\n",
       "        text-align: right;\n",
       "    }\n",
       "</style>\n",
       "<table border=\"1\" class=\"dataframe\">\n",
       "  <thead>\n",
       "    <tr style=\"text-align: right;\">\n",
       "      <th></th>\n",
       "      <th>aapi</th>\n",
       "      <th>aaron</th>\n",
       "      <th>aberrant</th>\n",
       "      <th>abolishing</th>\n",
       "      <th>absolutely</th>\n",
       "      <th>absurd</th>\n",
       "      <th>abundance</th>\n",
       "      <th>academics</th>\n",
       "      <th>accidentnnnew</th>\n",
       "      <th>according</th>\n",
       "      <th>...</th>\n",
       "      <th>yon</th>\n",
       "      <th>yong</th>\n",
       "      <th>york</th>\n",
       "      <th>young</th>\n",
       "      <th>younndid</th>\n",
       "      <th>youre</th>\n",
       "      <th>yu</th>\n",
       "      <th>yun</th>\n",
       "      <th>yung</th>\n",
       "      <th>zero</th>\n",
       "    </tr>\n",
       "  </thead>\n",
       "  <tbody>\n",
       "    <tr>\n",
       "      <th>nyt</th>\n",
       "      <td>0</td>\n",
       "      <td>1</td>\n",
       "      <td>1</td>\n",
       "      <td>0</td>\n",
       "      <td>0</td>\n",
       "      <td>0</td>\n",
       "      <td>0</td>\n",
       "      <td>0</td>\n",
       "      <td>0</td>\n",
       "      <td>4</td>\n",
       "      <td>...</td>\n",
       "      <td>1</td>\n",
       "      <td>1</td>\n",
       "      <td>2</td>\n",
       "      <td>0</td>\n",
       "      <td>0</td>\n",
       "      <td>0</td>\n",
       "      <td>1</td>\n",
       "      <td>1</td>\n",
       "      <td>1</td>\n",
       "      <td>0</td>\n",
       "    </tr>\n",
       "    <tr>\n",
       "      <th>fox</th>\n",
       "      <td>0</td>\n",
       "      <td>1</td>\n",
       "      <td>0</td>\n",
       "      <td>1</td>\n",
       "      <td>1</td>\n",
       "      <td>1</td>\n",
       "      <td>0</td>\n",
       "      <td>0</td>\n",
       "      <td>1</td>\n",
       "      <td>4</td>\n",
       "      <td>...</td>\n",
       "      <td>0</td>\n",
       "      <td>0</td>\n",
       "      <td>3</td>\n",
       "      <td>1</td>\n",
       "      <td>0</td>\n",
       "      <td>2</td>\n",
       "      <td>0</td>\n",
       "      <td>0</td>\n",
       "      <td>0</td>\n",
       "      <td>1</td>\n",
       "    </tr>\n",
       "    <tr>\n",
       "      <th>cnn</th>\n",
       "      <td>1</td>\n",
       "      <td>1</td>\n",
       "      <td>0</td>\n",
       "      <td>0</td>\n",
       "      <td>1</td>\n",
       "      <td>0</td>\n",
       "      <td>1</td>\n",
       "      <td>0</td>\n",
       "      <td>0</td>\n",
       "      <td>1</td>\n",
       "      <td>...</td>\n",
       "      <td>0</td>\n",
       "      <td>0</td>\n",
       "      <td>1</td>\n",
       "      <td>0</td>\n",
       "      <td>1</td>\n",
       "      <td>0</td>\n",
       "      <td>0</td>\n",
       "      <td>0</td>\n",
       "      <td>0</td>\n",
       "      <td>0</td>\n",
       "    </tr>\n",
       "    <tr>\n",
       "      <th>ac</th>\n",
       "      <td>0</td>\n",
       "      <td>0</td>\n",
       "      <td>0</td>\n",
       "      <td>0</td>\n",
       "      <td>1</td>\n",
       "      <td>0</td>\n",
       "      <td>0</td>\n",
       "      <td>1</td>\n",
       "      <td>0</td>\n",
       "      <td>0</td>\n",
       "      <td>...</td>\n",
       "      <td>0</td>\n",
       "      <td>0</td>\n",
       "      <td>3</td>\n",
       "      <td>3</td>\n",
       "      <td>0</td>\n",
       "      <td>0</td>\n",
       "      <td>0</td>\n",
       "      <td>0</td>\n",
       "      <td>0</td>\n",
       "      <td>0</td>\n",
       "    </tr>\n",
       "  </tbody>\n",
       "</table>\n",
       "<p>4 rows × 1541 columns</p>\n",
       "</div>"
      ],
      "text/plain": [
       "     aapi  aaron  aberrant  abolishing  absolutely  absurd  abundance  \\\n",
       "nyt     0      1         1           0           0       0          0   \n",
       "fox     0      1         0           1           1       1          0   \n",
       "cnn     1      1         0           0           1       0          1   \n",
       "ac      0      0         0           0           1       0          0   \n",
       "\n",
       "     academics  accidentnnnew  according  ...   yon  yong  york  young  \\\n",
       "nyt          0              0          4  ...     1     1     2      0   \n",
       "fox          0              1          4  ...     0     0     3      1   \n",
       "cnn          0              0          1  ...     0     0     1      0   \n",
       "ac           1              0          0  ...     0     0     3      3   \n",
       "\n",
       "     younndid  youre  yu  yun  yung  zero  \n",
       "nyt         0      0   1    1     1     0  \n",
       "fox         0      2   0    0     0     1  \n",
       "cnn         1      0   0    0     0     0  \n",
       "ac          0      0   0    0     0     0  \n",
       "\n",
       "[4 rows x 1541 columns]"
      ]
     },
     "execution_count": 10,
     "metadata": {},
     "output_type": "execute_result"
    }
   ],
   "source": [
    "# Create Document Term Matrix\n",
    "from sklearn.feature_extraction.text import CountVectorizer\n",
    "\n",
    "vectorizer = CountVectorizer(stop_words='english')\n",
    "data_vect = vectorizer.fit_transform(data_df.article)\n",
    "data_matrix = pd.DataFrame(data_vect.toarray(), columns=vectorizer.get_feature_names())\n",
    "data_matrix.index = data_df.index\n",
    "data_matrix"
   ]
  },
  {
   "cell_type": "markdown",
   "metadata": {},
   "source": [
    "## PART 3: Pickle Data\n",
    "We pickle the data so we can read it in later notebooks.\n",
    "* corpus - \n",
    "* document term matrix - rows for each document, columns for each word. each cell indicates how many times the word is in each document"
   ]
  },
  {
   "cell_type": "code",
   "execution_count": 13,
   "metadata": {},
   "outputs": [],
   "source": [
    "# Pickle Corpus Data\n",
    "data_df.to_pickle('corpus.pkl')"
   ]
  },
  {
   "cell_type": "code",
   "execution_count": 14,
   "metadata": {},
   "outputs": [],
   "source": [
    "# Pickle DTM \n",
    "data_matrix.to_pickle('dtm.pkl')"
   ]
  },
  {
   "cell_type": "code",
   "execution_count": null,
   "metadata": {},
   "outputs": [],
   "source": [
    "# Pickle Cleaned ata\n",
    "data_clkean"
   ]
  }
 ],
 "metadata": {
  "kernelspec": {
   "display_name": "Python 3 (ipykernel)",
   "language": "python",
   "name": "python3"
  },
  "language_info": {
   "codemirror_mode": {
    "name": "ipython",
    "version": 3
   },
   "file_extension": ".py",
   "mimetype": "text/x-python",
   "name": "python",
   "nbconvert_exporter": "python",
   "pygments_lexer": "ipython3",
   "version": "3.9.12"
  }
 },
 "nbformat": 4,
 "nbformat_minor": 2
}
