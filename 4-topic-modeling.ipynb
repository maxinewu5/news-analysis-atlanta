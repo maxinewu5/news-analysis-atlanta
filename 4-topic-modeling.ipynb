{
 "cells": [
  {
   "cell_type": "markdown",
   "metadata": {},
   "source": [
    "# Topic Modeling\n",
    "\n",
    "\n",
    "Topic modeling finds the most common topics in each corpus. One common method of topic modeling is Latent Dirichlet Allocation (LDA). LDA picks up topics from a text given a document term matrix and the number of topics in the text.\n",
    "\n",
    "I/O:\n",
    "\n",
    "* Input: Document Term  Matrix \n",
    "* Output:\n",
    "* Packages: gensim, scipy\n",
    "\n",
    "\n",
    "Next Meeting:\n",
    "* Figure out what LDA does (figuring out topics)\n",
    "* Figure out what LDA needs (corpus, id2word)\n",
    "* Figure out next rounds (N, V+N, A+N)\n",
    "\n",
    "Helpful Links:\n",
    "* https://www.machinelearningplus.com/nlp/topic-modeling-gensim-python/\n",
    "* https://towardsdatascience.com/end-to-end-topic-modeling-in-python-latent-dirichlet-allocation-lda-35ce4ed6b3e0\n",
    "* https://www.geeksforgeeks.org/removing-stop-words-nltk-python/"
   ]
  },
  {
   "cell_type": "code",
   "execution_count": 5,
   "metadata": {},
   "outputs": [
    {
     "data": {
      "text/html": [
       "<div>\n",
       "<style scoped>\n",
       "    .dataframe tbody tr th:only-of-type {\n",
       "        vertical-align: middle;\n",
       "    }\n",
       "\n",
       "    .dataframe tbody tr th {\n",
       "        vertical-align: top;\n",
       "    }\n",
       "\n",
       "    .dataframe thead th {\n",
       "        text-align: right;\n",
       "    }\n",
       "</style>\n",
       "<table border=\"1\" class=\"dataframe\">\n",
       "  <thead>\n",
       "    <tr style=\"text-align: right;\">\n",
       "      <th></th>\n",
       "      <th>nyt</th>\n",
       "      <th>fox</th>\n",
       "      <th>cnn</th>\n",
       "      <th>ac</th>\n",
       "    </tr>\n",
       "  </thead>\n",
       "  <tbody>\n",
       "    <tr>\n",
       "      <th>aapi</th>\n",
       "      <td>0</td>\n",
       "      <td>0</td>\n",
       "      <td>1</td>\n",
       "      <td>0</td>\n",
       "    </tr>\n",
       "    <tr>\n",
       "      <th>aaron</th>\n",
       "      <td>1</td>\n",
       "      <td>1</td>\n",
       "      <td>1</td>\n",
       "      <td>0</td>\n",
       "    </tr>\n",
       "    <tr>\n",
       "      <th>aberrant</th>\n",
       "      <td>1</td>\n",
       "      <td>0</td>\n",
       "      <td>0</td>\n",
       "      <td>0</td>\n",
       "    </tr>\n",
       "    <tr>\n",
       "      <th>abolishing</th>\n",
       "      <td>0</td>\n",
       "      <td>1</td>\n",
       "      <td>0</td>\n",
       "      <td>0</td>\n",
       "    </tr>\n",
       "    <tr>\n",
       "      <th>absolutely</th>\n",
       "      <td>0</td>\n",
       "      <td>1</td>\n",
       "      <td>1</td>\n",
       "      <td>1</td>\n",
       "    </tr>\n",
       "    <tr>\n",
       "      <th>absurd</th>\n",
       "      <td>0</td>\n",
       "      <td>1</td>\n",
       "      <td>0</td>\n",
       "      <td>0</td>\n",
       "    </tr>\n",
       "    <tr>\n",
       "      <th>abundance</th>\n",
       "      <td>0</td>\n",
       "      <td>0</td>\n",
       "      <td>1</td>\n",
       "      <td>0</td>\n",
       "    </tr>\n",
       "    <tr>\n",
       "      <th>academics</th>\n",
       "      <td>0</td>\n",
       "      <td>0</td>\n",
       "      <td>0</td>\n",
       "      <td>1</td>\n",
       "    </tr>\n",
       "    <tr>\n",
       "      <th>accidentnnnew</th>\n",
       "      <td>0</td>\n",
       "      <td>1</td>\n",
       "      <td>0</td>\n",
       "      <td>0</td>\n",
       "    </tr>\n",
       "    <tr>\n",
       "      <th>according</th>\n",
       "      <td>4</td>\n",
       "      <td>4</td>\n",
       "      <td>1</td>\n",
       "      <td>0</td>\n",
       "    </tr>\n",
       "  </tbody>\n",
       "</table>\n",
       "</div>"
      ],
      "text/plain": [
       "               nyt  fox  cnn  ac\n",
       "aapi             0    0    1   0\n",
       "aaron            1    1    1   0\n",
       "aberrant         1    0    0   0\n",
       "abolishing       0    1    0   0\n",
       "absolutely       0    1    1   1\n",
       "absurd           0    1    0   0\n",
       "abundance        0    0    1   0\n",
       "academics        0    0    0   1\n",
       "accidentnnnew    0    1    0   0\n",
       "according        4    4    1   0"
      ]
     },
     "execution_count": 5,
     "metadata": {},
     "output_type": "execute_result"
    }
   ],
   "source": [
    "import pandas as pd\n",
    "import pickle \n",
    "\n",
    "# corpus\n",
    "corpus = pd.read_pickle('corpus.pkl')\n",
    "corpus\n",
    "\n",
    "# document term matrix: documents are the rows\n",
    "dtm = pd.read_pickle('dtm.pkl')\n",
    "\n",
    "# term document matrix: terms are the rows\n",
    "tdm = dtm.transpose() \n",
    "tdm.head(10)"
   ]
  },
  {
   "cell_type": "code",
   "execution_count": 6,
   "metadata": {
    "scrolled": true
   },
   "outputs": [
    {
     "data": {
      "text/html": [
       "<div>\n",
       "<style scoped>\n",
       "    .dataframe tbody tr th:only-of-type {\n",
       "        vertical-align: middle;\n",
       "    }\n",
       "\n",
       "    .dataframe tbody tr th {\n",
       "        vertical-align: top;\n",
       "    }\n",
       "\n",
       "    .dataframe thead th {\n",
       "        text-align: right;\n",
       "    }\n",
       "</style>\n",
       "<table border=\"1\" class=\"dataframe\">\n",
       "  <thead>\n",
       "    <tr style=\"text-align: right;\">\n",
       "      <th></th>\n",
       "      <th>article</th>\n",
       "    </tr>\n",
       "  </thead>\n",
       "  <tbody>\n",
       "    <tr>\n",
       "      <th>nyt</th>\n",
       "      <td>among the first things i did upon learning abo...</td>\n",
       "    </tr>\n",
       "    <tr>\n",
       "      <th>fox</th>\n",
       "      <td>on the afternoon of march  police say a  man c...</td>\n",
       "    </tr>\n",
       "    <tr>\n",
       "      <th>cnn</th>\n",
       "      <td>at an office where i worked some years ago a m...</td>\n",
       "    </tr>\n",
       "    <tr>\n",
       "      <th>ac</th>\n",
       "      <td>it is striking to see how quickly our media ha...</td>\n",
       "    </tr>\n",
       "  </tbody>\n",
       "</table>\n",
       "</div>"
      ],
      "text/plain": [
       "                                               article\n",
       "nyt  among the first things i did upon learning abo...\n",
       "fox  on the afternoon of march  police say a  man c...\n",
       "cnn  at an office where i worked some years ago a m...\n",
       "ac   it is striking to see how quickly our media ha..."
      ]
     },
     "execution_count": 6,
     "metadata": {},
     "output_type": "execute_result"
    }
   ],
   "source": [
    "# corpus\n",
    "corpus = pd.read_pickle('corpus.pkl')\n",
    "corpus"
   ]
  },
  {
   "cell_type": "code",
   "execution_count": null,
   "metadata": {},
   "outputs": [],
   "source": []
  },
  {
   "cell_type": "code",
   "execution_count": 21,
   "metadata": {},
   "outputs": [
    {
     "name": "stdout",
     "output_type": "stream",
     "text": [
      "['i', 'me', 'my', 'myself', 'we', 'our', 'ours', 'ourselves', 'you', \"you're\", \"you've\", \"you'll\", \"you'd\", 'your', 'yours', 'yourself', 'yourselves', 'he', 'him', 'his', 'himself', 'she', \"she's\", 'her', 'hers', 'herself', 'it', \"it's\", 'its', 'itself', 'they', 'them', 'their', 'theirs', 'themselves', 'what', 'which', 'who', 'whom', 'this', 'that', \"that'll\", 'these', 'those', 'am', 'is', 'are', 'was', 'were', 'be', 'been', 'being', 'have', 'has', 'had', 'having', 'do', 'does', 'did', 'doing', 'a', 'an', 'the', 'and', 'but', 'if', 'or', 'because', 'as', 'until', 'while', 'of', 'at', 'by', 'for', 'with', 'about', 'against', 'between', 'into', 'through', 'during', 'before', 'after', 'above', 'below', 'to', 'from', 'up', 'down', 'in', 'out', 'on', 'off', 'over', 'under', 'again', 'further', 'then', 'once', 'here', 'there', 'when', 'where', 'why', 'how', 'all', 'any', 'both', 'each', 'few', 'more', 'most', 'other', 'some', 'such', 'no', 'nor', 'not', 'only', 'own', 'same', 'so', 'than', 'too', 'very', 's', 't', 'can', 'will', 'just', 'don', \"don't\", 'should', \"should've\", 'now', 'd', 'll', 'm', 'o', 're', 've', 'y', 'ain', 'aren', \"aren't\", 'couldn', \"couldn't\", 'didn', \"didn't\", 'doesn', \"doesn't\", 'hadn', \"hadn't\", 'hasn', \"hasn't\", 'haven', \"haven't\", 'isn', \"isn't\", 'ma', 'mightn', \"mightn't\", 'mustn', \"mustn't\", 'needn', \"needn't\", 'shan', \"shan't\", 'shouldn', \"shouldn't\", 'wasn', \"wasn't\", 'weren', \"weren't\", 'won', \"won't\", 'wouldn', \"wouldn't\"]\n"
     ]
    },
    {
     "name": "stderr",
     "output_type": "stream",
     "text": [
      "[nltk_data] Downloading package stopwords to /Users/maxin/nltk_data...\n",
      "[nltk_data]   Package stopwords is already up-to-date!\n"
     ]
    }
   ],
   "source": [
    "from gensim import matutils, models\n",
    "import gensim.corpora as corpora\n",
    "import scipy.sparse\n",
    "\n",
    "# import stop words\n",
    "import nltk\n",
    "nltk.download('stopwords')\n",
    "from nltk.corpus import stopwords\n",
    "\n",
    "stop_words = stopwords.words('english')\n",
    "print(stop_words)"
   ]
  },
  {
   "cell_type": "code",
   "execution_count": 8,
   "metadata": {},
   "outputs": [
    {
     "name": "stdout",
     "output_type": "stream",
     "text": [
      "[['among', 'the', 'first', 'things', 'i', 'did', 'upon', 'learning', 'about', 'the', 'shootings', 'at', 'three', 'massage', 'parlors', 'in', 'the', 'atlanta', 'area', 'was', 'to', 'check', 'in', 'with', 'a', 'former', 'massage', 'parlor', 'worker', 'i', 'met', 'in', 'at', 'the', 'time', 'i', 'was', 'reporting', 'an', 'article', 'about', 'a', 'prostitution', 'raid', 'at', 'a', 'florida', 'massage', 'parlornnunable', 'to', 'work', 'during', 'the', 'pandemic', 'she', 'was', 'home', 'alone', 'when', 'we', 'spoke', 'the', 'news', 'from', 'atlanta', 'hadnt', 'reached', 'her', 'yet', 'too', 'frightening', 'she', 'said', 'when', 'i', 'sent', 'her', 'an', 'article', 'about', 'what', 'had', 'happened', 'robert', 'aaron', 'long', 'who', 'has', 'been', 'charged', 'with', 'the', 'murder', 'of', 'eight', 'people', 'in', 'atlanta', 'and', 'nearby', 'acworth', 'six', 'of', 'them', 'asian', 'women', 'had', 'been', 'arrested', 'on', 'his', 'way', 'to', 'florida', 'where', 'she', 'was', 'and', 'where', 'he', 'planned', 'on', 'killing', 'more', 'according', 'to', 'what', 'he', 'told', 'the', 'police', 'she', 'worried', 'for', 'her', 'colleagues', 'do', 'you', 'think', 'someone', 'will', 'kill', 'them', 'am', 'i', 'in', 'danger', 'toonni', 'didnt', 'know', 'how', 'to', 'respond', 'in', 'part', 'because', 'i', 'knew', 'so', 'little', 'about', 'those', 'killed', 'in', 'georgia', 'hyun', 'jung', 'grant', 'suncha', 'kim', 'soon', 'chung', 'park', 'yong', 'ae', 'yu', 'daoyou', 'feng', 'xiaojie', 'tan', 'paul', 'andre', 'michels', 'and', 'delaina', 'ashley', 'yaun', 'were', 'victims', 'identified', 'earlier', 'in', 'some', 'massage', 'parlors', 'women', 'often', 'asian', 'may', 'sometimes', 'perform', 'sexual', 'services', 'but', 'i', 'did', 'not', 'know', 'whether', 'those', 'who', 'died', 'this', 'week', 'would', 'have', 'identified', 'themselves', 'as', 'sex', 'workersnni', 'have', 'spent', 'the', 'past', 'few', 'years', 'researching', 'the', 'various', 'ways', 'sex', 'work', 'intersects', 'with', 'race', 'class', 'and', 'gender', 'routinely', 'amazed', 'by', 'how', 'it', 'connects', 'to', 'such', 'disparate', 'issues', 'as', 'criminal', 'justice', 'gentrification', 'poverty', 'immigration', 'and', 'trans', 'rights', 'i', 'have', 'come', 'to', 'understand', 'sex', 'work', 'rights', 'as', 'an', 'overlooked', 'civil', 'rights', 'issue', 'that', 'deserves', 'study', 'i', 'soon', 'found', 'myself', 'placing', 'the', 'atlanta', 'killings', 'within', 'the', 'context', 'of', 'a', 'horrific', 'historynnin', 'a', 'soldier', 'park', 'estep', 'was', 'convicted', 'of', 'a', 'crime', 'against', 'two', 'women', 'at', 'the', 'suezy', 'oriental', 'massage', 'parlor', 'near', 'fort', 'carson', 'in', 'colorado', 'according', 'to', 'court', 'documents', 'he', 'slashed', 'the', 'throat', 'of', 'yon', 'cha', 'ye', 'lee', 'an', 'employee', 'at', 'the', 'parlor', 'and', 'stabbed', 'her', 'in', 'the', 'back', 'he', 'then', 'raped', 'sun', 'ok', 'cousin', 'the', 'spas', 'owner', 'before', 'shooting', 'her', 'in', 'the', 'right', 'temple', 'killing', 'her', 'and', 'then', 'setting', 'her', 'on', 'fire', 'in', 'kenneth', 'markle', 'iii', 'a', 'medic', 'at', 'a', 'us', 'military', 'base', 'in', 'south', 'korea', 'was', 'convicted', 'of', 'murdering', 'yun', 'kumi', 'a', 'sex', 'worker', 'her', 'sexuallyabused', 'corpse', 'was', 'found', 'near', 'the', 'basennsince', 'the', 'terrible', 'events', 'this', 'past', 'tuesday', 'much', 'effort', 'has', 'been', 'devoted', 'to', 'understanding', 'mr', 'long', 'an', 'earnest', 'inquiry', 'that', 'betrays', 'a', 'particular', 'kind', 'of', 'american', 'naïveté', 'he', 'claimed', 'to', 'have', 'been', 'driven', 'by', 'sexual', 'addiction', 'investigators', 'have', 'not', 'yet', 'ruled', 'out', 'race', 'as', 'a', 'factor', 'for', 'now', 'we', 'do', 'not', 'know', 'whether', 'the', 'massage', 'parlor', 'workers', 'who', 'were', 'killed', 'would', 'have', 'considered', 'themselves', 'sex', 'workers', 'and', 'we', 'may', 'never', 'know', 'but', 'the', 'answer', 'is', 'less', 'relevant', 'to', 'their', 'deaths', 'than', 'their', 'murderers', 'answer', 'does', 'it', 'matter', 'how', 'one', 'identifies', 'oneself', 'if', 'a', 'mass', 'killer', 'conflates', 'any', 'asian', 'woman', 'in', 'a', 'massage', 'parlor', 'with', 'a', 'sex', 'workernnthe', 'stereotype', 'of', 'the', 'asian', 'woman', 'as', 'simultaneously', 'hypersexualized', 'and', 'submissive', 'is', 'borne', 'of', 'centuries', 'of', 'western', 'imperialism', 'an', 'early', 'documented', 'instance', 'of', 'asian', 'fetishization', 'can', 'be', 'found', 'in', 'madame', 'chrysantheme', 'a', 'thinly', 'fictionalized', 'account', 'of', 'a', 'french', 'naval', 'officers', 'time', 'visiting', 'japan', 'madame', 'chrysantheme', 'was', 'wildly', 'popular', 'when', 'it', 'was', 'published', 'and', 'went', 'on', 'to', 'create', 'a', 'subgenre', 'of', 'orientalizing', 'prose', 'the', 'women', 'in', 'such', 'accounts', 'were', 'as', 'edward', 'said', 'wrote', 'in', 'orientalism', 'creatures', 'of', 'a', 'male', 'powerfantasy', 'they', 'express', 'unlimited', 'sensuality', 'they', 'are', 'more', 'or', 'less', 'stupid', 'and', 'above', 'all', 'they', 'are', 'willingnnlater', 'an', 'untold', 'number', 'of', 'american', 'servicemen', 'in', 'korea', 'and', 'vietnam', 'had', 'their', 'first', 'sexual', 'encounter', 'with', 'asian', 'women', 'the', 'us', 'military', 'tacitly', 'endorsed', 'prostitution', 'considering', 'it', 'good', 'for', 'morale', 'and', 'at', 'times', 'even', 'explicitly', 'encouraged', 'troops', 'to', 'explore', 'the', 'local', 'sex', 'industry', 'according', 'to', 'the', 'book', 'sex', 'among', 'allies', 'by', 'katharine', 'moon', 'a', 'professor', 'of', 'political', 'science', 'at', 'wellesley', 'college', 'an', 'ad', 'in', 'stars', 'and', 'stripes', 'the', 'main', 'military', 'newspaper', 'read', 'picture', 'having', 'three', 'or', 'four', 'of', 'the', 'loveliest', 'creatures', 'god', 'ever', 'created', 'hovering', 'around', 'you', 'singing', 'dancing', 'feeding', 'you', 'washing', 'what', 'they', 'feed', 'you', 'down', 'with', 'rice', 'wine', 'or', 'beer', 'all', 'saying', 'at', 'once', '‘you', 'are', 'the', 'greatest', 'this', 'is', 'the', 'orient', 'you', 'heard', 'about', 'and', 'came', 'to', 'findnnyuri', 'doolan', 'an', 'assistant', 'professor', 'of', 'history', 'and', 'of', 'womens', 'gender', 'and', 'sexuality', 'studies', 'at', 'brandeis', 'university', 'has', 'written', 'that', 'the', 'first', 'korean', 'massage', 'parlor', 'workers', 'most', 'likely', 'came', 'to', 'the', 'united', 'states', 'in', 'the', 'after', 'the', 'united', 'states', 'reduced', 'its', 'forces', 'in', 'south', 'korea', 'after', 'the', 'war', 'there', 'they', 'were', 'unlikely', 'to', 'have', 'been', 'massage', 'parlor', 'workers', 'before', 'they', 'came', 'the', 'son', 'of', 'one', 'of', 'the', 'victims', 'has', 'said', 'his', 'mother', 'told', 'him', 'she', 'was', 'a', 'teacher', 'before', 'coming', 'to', 'the', 'united', 'statesnnthese', 'women', 'the', 'first', 'thousand', 'or', 'so', 'likely', 'met', 'their', 'servicemen', 'husbands', 'in', 'base', 'towns', 'across', 'south', 'korea', 'that', 'sprang', 'up', 'during', 'the', 'korean', 'war', 'and', 'the', 'american', 'occupation', 'that', 'followednnin', 'when', 'the', 'immigration', 'and', 'naturalization', 'service', 'created', 'the', 'korean', 'organized', 'crime', 'task', 'force', 'to', 'fight', 'the', 'scourge', 'of', 'its', 'time', 'korean', 'prostitution', 'the', 'authorities', 'estimated', 'that', 'some', 'percent', 'of', 'massage', 'parlor', 'workers', 'in', 'the', 'united', 'states', 'had', 'come', 'to', 'the', 'country', 'as', 'gi', 'brides', 'these', 'women', 'followed', 'their', 'husbands', 'to', 'military', 'bases', 'once', 'settled', 'some', 'opened', 'massage', 'parlors', 'among', 'the', 'few', 'opportunities', 'for', 'employment', 'and', 'financial', 'autonomy', 'available', 'to', 'immigrant', 'womennnbut', 'beyond', 'this', 'specific', 'history', 'structural', 'violence', 'against', 'asians', 'in', 'the', 'united', 'states', 'has', 'long', 'been', 'institutionalized', 'the', 'racist', 'sexist', 'nature', 'of', 'american', 'society', 'is', 'hardly', 'some', 'aberrant', 'recent', 'phenomenon', 'that', 'can', 'be', 'fixed', 'through', 'minor', 'reformnnin', 'the', 'chinese', 'exclusion', 'act', 'became', 'the', 'first', 'and', 'only', 'major', 'federal', 'law', 'to', 'exclude', 'a', 'specific', 'ethnic', 'group', 'from', 'entering', 'the', 'united', 'states', 'it', 'codified', 'in', 'federal', 'law', 'the', 'xenophobia', 'that', 'had', 'been', 'building', 'since', 'the', 'economic', 'depression', 'after', 'the', 'civil', 'war', 'in', 'which', 'chinese', 'laborers', 'were', 'blamed', 'for', 'taking', 'jobs', 'away', 'from', 'white', 'people', 'the', 'and', 'early', 'centuries', 'saw', 'horrific', 'violence', 'against', 'asian', 'communities', 'including', 'the', 'hells', 'canyon', 'massacre', 'in', 'which', 'as', 'many', 'as', 'chinese', 'miners', 'were', 'killed', 'and', 'the', 'bellingham', 'riots', 'which', 'drove', 'out', 'the', 'entire', 'south', 'asian', 'population', 'within', 'three', 'daysnnpredating', 'the', 'chinese', 'exclusion', 'act', 'was', 'the', 'lesserknown', 'page', 'law', 'of', 'which', 'was', 'mostly', 'applied', 'to', 'chinese', 'immigrants', 'and', 'allowed', 'the', 'barring', 'of', 'entry', 'to', 'those', 'deemed', 'to', 'have', 'agreed', 'to', 'services', 'with', 'lewd', 'and', 'immoral', 'purposes', 'immigration', 'officials', 'asked', 'every', 'female', 'applicant', 'are', 'you', 'a', 'virtuous', 'woman', 'they', 'apparently', 'operated', 'on', 'the', 'premise', 'that', 'every', 'chinese', 'woman', 'was', 'seeking', 'admission', 'on', 'false', 'pretenses', 'and', 'that', 'each', 'was', 'a', 'potential', 'prostitute', 'until', 'proven', 'otherwise', 'according', 'to', 'unbound', 'feet', 'by', 'judy', 'yung', 'a', 'historian', 'and', 'emerita', 'professor', 'of', 'american', 'studies', 'at', 'the', 'university', 'of', 'california', 'santa', 'cruznnin', 'this', 'way', 'the', 'asian', 'woman', 'became', 'an', 'object', 'of', 'hatred', 'and', 'lust', 'a', 'thing', 'to', 'loathe', 'then', 'desire', 'the', 'distance', 'between', 'yellow', 'peril', 'and', 'yellow', 'fever', 'measured', 'in', 'flashesnnit', 'is', 'hard', 'to', 'know', 'what', 'motivates', 'a', 'person', 'early', 'reporting', 'has', 'pointed', 'to', 'the', 'tension', 'between', 'mr', 'longs', 'religious', 'beliefs', 'and', 'sexual', 'behavior', 'he', 'saw', 'as', 'compulsive', 'and', 'the', 'way', 'this', 'tension', 'may', 'have', 'warped', 'him', 'but', 'mr', 'long', 'is', 'also', 'a', 'white', 'man', 'born', 'in', 'america', 'a', 'country', 'with', 'a', 'rich', 'history', 'of', 'violence', 'against', 'asians', 'a', 'place', 'where', 'the', 'previous', 'president', 'was', 'among', 'the', 'first', 'to', 'call', 'the', 'kung', 'flu', 'and', 'the', 'china', 'virus', 'possibly', 'sowing', 'the', 'seeds', 'for', 'the', 'nearly', 'acts', 'of', 'violence', 'against', 'asians', 'mostly', 'women', 'that', 'followed', 'did', 'this', 'history', 'allow', 'mr', 'long', 'to', 'see', 'murder', 'as', 'a', 'way', 'of', 'eliminating', 'temptation', 'as', 'he', 'has', 'said', 'a', 'way', 'of', 'viewing', 'asians', 'as', 'expendablennthe', 'events', 'were', 'also', 'informed', 'by', 'class', 'these', 'women', 'some', 'of', 'whom', 'were', 'working', 'class', 'almost', 'certainly', 'died', 'because', 'they', 'were', 'at', 'work', 'as', 'working', 'women', 'of', 'color', 'they', 'existed', 'at', 'the', 'terrible', 'nexus', 'of', 'race', 'gender', 'and', 'class', 'it', 'is', 'of', 'course', 'often', 'women', 'who', 'dont', 'speak', 'english', 'or', 'are', 'undocumented', 'who', 'are', 'locked', 'out', 'of', 'traditional', 'labor', 'markets', 'or', 'are', 'otherwise', 'marginalizednnmany', 'have', 'framed', 'the', 'atlanta', 'spa', 'shootings', 'as', 'a', 'hate', 'crime', 'against', 'the', 'asian', 'community', 'hate', 'crime', 'is', 'a', 'legal', 'designation', 'that', 'serves', 'to', 'justify', 'more', 'policing', 'despite', 'being', 'seen', 'as', 'a', 'candidate', 'supporting', 'decriminalization', 'of', 'sex', 'work', 'the', 'new', 'york', 'city', 'mayoral', 'candidate', 'andrew', 'yang', 'took', 'the', 'occasion', 'to', 'call', 'for', 'more', 'funding', 'of', 'the', 'new', 'york', 'police', 'departments', 'asian', 'hate', 'crime', 'task', 'force', 'the', 'atlanta', 'police', 'deployed', 'additional', 'patrols', 'across', 'the', 'city', 'as', 'did', 'the', 'nypd', 'despite', 'the', 'fact', 'that', 'the', 'police', 'are', 'the', 'sources', 'of', 'instability', 'in', 'the', 'massageparlorworker', 'community', 'the', 'irony', 'is', 'of', 'course', 'that', 'had', 'the', 'women', 'in', 'atlanta', 'not', 'been', 'killed', 'they', 'would', 'have', 'probably', 'run', 'the', 'risk', 'of', 'being', 'arrested', 'by', 'the', 'very', 'same', 'law', 'enforcement', 'officersnnit', 'is', 'the', 'instinct', 'of', 'the', 'living', 'to', 'commemorate', 'the', 'dead', 'to', 'make', 'their', 'passing', 'not', 'be', 'in', 'vain', 'i', 'too', 'am', 'vulnerable', 'to', 'such', 'impulses', 'and', 'so', 'i', 'end', 'by', 'saying', 'georgia', 'reminds', 'us', 'i', 'hope', 'that', 'antiasian', 'violence', 'is', 'also', 'antiwomen', 'violence', 'antipoor', 'violence', 'and', 'antisexwork', 'violence', 'that', 'our', 'fates', 'are', 'entwined', 'that', 'fighting', 'oppression', 'means', 'fighting', 'oppression', 'not', 'just', 'in', 'ones', 'own', 'narrowly', 'defined', 'community', 'but', 'also', 'everywhere'], ['on', 'the', 'afternoon', 'of', 'march', 'police', 'say', 'a', 'man', 'called', 'robert', 'aaron', 'long', 'walked', 'into', 'a', 'massage', 'parlor', 'outside', 'atlanta', 'and', 'shot', 'five', 'people', 'long', 'then', 'drove', 'to', 'two', 'other', 'massage', 'parlors', 'in', 'the', 'city', 'and', 'shot', 'another', 'four', 'of', 'the', 'nine', 'people', 'robert', 'long', 'is', 'accused', 'of', 'shooting', 'two', 'were', 'white', 'one', 'was', 'hispanic', 'and', 'the', 'other', 'six', 'were', 'asian', 'women', 'of', 'those', 'six', 'women', 'according', 'to', 'the', 'south', 'korean', 'government', 'at', 'least', 'four', 'of', 'them', 'were', 'koreannnpolice', 'caught', 'robert', 'long', 'within', 'hours', 'as', 'he', 'was', 'driving', 'his', 'hyundai', 'south', 'on', 'interstate', 'at', 'the', 'sheriffs', 'department', 'press', 'conference', 'the', 'next', 'day', 'captain', 'jay', 'baker', 'explained', 'what', 'happened', 'nextnncherokee', 'county', 'sheriffs', 'office', 'captain', 'jay', 'baker', 'the', 'suspect', 'did', 'take', 'responsibility', 'for', 'the', 'shootings', 'he', 'said', 'that', 'early', 'on', 'once', 'we', 'began', 'the', 'interviews', 'with', 'him', 'he', 'claims', 'that', 'these', 'and', 'as', 'the', 'chief', 'said', 'this', 'is', 'still', 'early', 'but', 'he', 'does', 'claim', 'that', 'it', 'was', 'not', 'racially', 'motivated', 'he', 'apparently', 'has', 'an', 'issue', 'what', 'he', 'considers', 'sex', 'addiction', 'and', 'sees', 'these', 'locations', 'as', 'something', 'that', 'allows', 'him', 'to', 'go', 'to', 'these', 'places', 'and', 'its', 'a', 'temptation', 'for', 'him', 'that', 'he', 'wanted', 'to', 'eliminatennso', 'the', 'police', 'took', 'a', 'long', 'and', 'detailed', 'statement', 'from', 'robert', 'long', 'and', 'to', 'restate', 'heres', 'what', 'they', 'found', 'long', 'immediately', 'confessed', 'to', 'the', 'crimes', 'but', 'while', 'he', 'admitted', 'to', 'committing', 'multiple', 'murders', 'a', 'death', 'penalty', 'offense', 'in', 'the', 'state', 'of', 'georgia', 'long', 'denied', 'having', 'any', 'racial', 'motivation', 'instead', 'he', 'told', 'police', 'he', 'had', 'a', 'sex', 'addiction', 'and', 'an', 'issue', 'with', 'porn', 'and', 'that', 'he', 'shot', 'up', 'massage', 'parlors', 'in', 'an', 'effort', 'to', 'eliminate', 'his', 'own', 'temptation', 'to', 'visit', 'themnnpolice', 'arrested', 'long', 'as', 'he', 'was', 'heading', 'to', 'florida', 'where', 'he', 'said', 'hed', 'planned', 'to', 'kill', 'more', 'people', 'in', 'the', 'sex', 'industry', 'so', 'robert', 'long', 'was', 'fixated', 'on', 'prostitution', 'and', 'pornography', 'and', 'thats', 'why', 'he', 'said', 'he', 'committed', 'the', 'murders', 'the', 'next', 'day', 'information', 'came', 'to', 'light', 'that', 'seemed', 'to', 'confirm', 'his', 'story', 'a', 'man', 'called', 'tyler', 'bayless', 'said', 'he', 'shared', 'a', 'room', 'with', 'long', 'in', 'a', 'georgia', 'rehab', 'facility', 'last', 'year', 'bayless', 'was', 'there', 'for', 'drugs', 'but', 'long', 'was', 'there', 'for', 'sex', 'addictionnnit', 'was', 'something', 'that', 'absolutely', 'would', 'torture', 'him', 'bayless', 'said', 'while', 'at', 'the', 'facility', 'long', 'frequently', 'relapsed', 'and', 'went', 'to', 'massage', 'parlors', 'explicitly', 'to', 'engage', 'in', 'sex', 'actsnnas', 'a', 'result', 'of', 'this', 'torment', 'he', 'said', 'he', 'experienced', 'long', 'says', 'he', 'shot', 'eight', 'peoplenna', 'ninth', 'victim', 'elcias', 'hernandezortiz', 'remains', 'in', 'the', 'hospital', 'in', 'critical', 'condition', 'according', 'to', 'police', 'hernandezortiz', 'had', 'nothing', 'to', 'do', 'with', 'prostitution', 'whatsoever', 'he', 'just', 'happened', 'to', 'be', 'walking', 'past', 'a', 'massage', 'parlor', 'on', 'the', 'way', 'to', 'another', 'business', 'when', 'long', 'shot', 'himnnatlanta', 'shooting', 'suspect', 'a', 'sex', 'addict', 'who', 'was', 'kicked', 'out', 'of', 'home', 'by', 'parents', 'nancy', 'gracevideonso', 'those', 'are', 'the', 'facts', 'as', 'we', 'understand', 'them', 'an', 'honest', 'reporter', 'might', 'follow', 'those', 'facts', 'in', 'a', 'number', 'of', 'obvious', 'directions', 'robert', 'long', 'seems', 'deranged', 'but', 'his', 'obsessive', 'and', 'violent', 'behavior', 'seems', 'sadly', 'familiar', 'if', 'you', 'follow', 'the', 'news', 'closely', 'an', 'increasing', 'number', 'of', 'americans', 'struggle', 'with', 'mental', 'illness', 'it', 'would', 'be', 'worth', 'knowing', 'much', 'more', 'about', 'robert', 'longs', 'life', 'if', 'only', 'to', 'try', 'to', 'prevent', 'the', 'next', 'mass', 'shootingnnthen', 'theres', 'the', 'very', 'real', 'question', 'of', 'sex', 'addiction', 'which', 'we', 'should', 'not', 'laugh', 'off', 'why', 'is', 'there', 'so', 'much', 'prostitution', 'in', 'atlanta', 'google', 'business', 'listings', 'show', 'more', 'massage', 'parlors', 'in', 'the', 'city', 'than', 'starbucks', 'outlets', 'who', 'works', 'in', 'these', 'places', 'and', 'under', 'what', 'conditions', 'thats', 'not', 'a', 'hard', 'question', 'to', 'answer', 'wikipedia', 'has', 'an', 'entire', 'entry', 'on', 'human', 'trafficking', 'in', 'the', 'state', 'of', 'georgia', 'according', 'to', 'the', 'department', 'of', 'justice', 'atlanta', 'is', 'a', 'major', 'transportation', 'hub', 'for', 'trafficking', 'young', 'girls', 'and', 'one', 'of', 'the', 'fourteen', 'us', 'cities', 'with', 'the', 'highest', 'levels', 'of', 'child', 'sex', 'traffickingnna', 'competent', 'media', 'might', 'tell', 'us', 'more', 'about', 'this', 'knowing', 'more', 'facts', 'and', 'rationally', 'assessing', 'them', 'might', 'improve', 'this', 'country', 'but', 'its', 'not', 'the', 'coverage', 'were', 'getting', 'its', 'not', 'even', 'close', 'to', 'the', 'coverage', 'we', 'are', 'gettingnninstead', 'the', 'usual', 'liars', 'are', 'describing', 'the', 'massacre', 'in', 'atlanta', 'as', 'the', 'one', 'thing', 'it', 'apparently', 'wasnt', 'a', 'racial', 'attack', 'white', 'supremacy', 'and', 'hate', 'are', 'haunting', 'asian', 'americans', 'cnn', 'confidently', 'announced', 'in', 'a', 'headline', 'nndavid', 'leebron', 'the', 'president', 'of', 'rice', 'university', 'in', 'texas', 'and', 'a', 'man', 'who', 'is', 'supposed', 'to', 'be', 'a', 'scholar', 'may', 'have', 'been', 'watching', 'this', 'he', 'immediately', 'issued', 'a', 'statement', 'that', 'got', 'key', 'facts', 'about', 'the', 'killings', 'completely', 'wrong', 'not', 'that', 'facts', 'were', 'the', 'point', 'of', 'the', 'statement', 'the', 'point', 'was', 'making', 'that', 'sure', 'everyone', 'understood', 'the', 'political', 'lessonnnthe', 'deliberate', 'use', 'of', 'such', 'terms', 'as', '‘the', 'china', 'virus', 'to', 'foster', 'bigotry', 'has', 'played', 'a', 'significant', 'role', 'leebron', 'intoned', 'as', 'if', 'he', 'knew', 'that', 'to', 'be', 'true', 'he', 'didnt', 'because', 'theres', 'no', 'evidence', 'he', 'continued', 'sadly', 'and', 'predictably', 'this', 'escalation', 'of', 'raciallybased', 'hatred', 'has', 'led', 'to', 'violencennleebron', 'is', 'telling', 'us', 'it', 'was', 'all', 'entirely', 'predictable', 'because', 'once', 'you', 'describe', 'a', 'chinese', 'virus', 'as', 'chinese', 'people', 'are', 'naturally', 'going', 'to', 'start', 'murdering', 'korean', 'women', 'you', 'could', 'have', 'seen', 'that', 'coming', 'nnharvard', 'couldnt', 'resist', 'getting', 'involved', 'bigotry', 'against', 'asians', 'is', 'a', 'sensitive', 'subject', 'at', 'harvard', 'university', 'given', 'that', 'it', 'is', 'one', 'of', 'the', 'very', 'few', 'institutions', 'in', 'american', 'life', 'that', 'has', 'publicly', 'admitted', 'committing', 'it', 'many', 'schools', 'do', 'but', 'harvard', 'got', 'caught', 'over', 'the', 'course', 'of', 'many', 'years', 'harvard', 'has', 'denied', 'admission', 'to', 'asian', 'students', 'precisely', 'because', 'they', 'are', 'asian', 'if', 'theres', 'a', 'clearer', 'definition', 'of', 'bigotry', 'than', 'this', 'its', 'hard', 'to', 'imagine', 'what', 'it', 'might', 'be', 'harvard', 'doesnt', 'want', 'to', 'talk', 'about', 'it', 'and', 'a', 'mass', 'murder', 'in', 'atlanta', 'was', 'the', 'perfect', 'way', 'to', 'change', 'the', 'subjectnnfor', 'the', 'past', 'year', 'harvard', 'administrators', 'wrote', 'asians', 'asian', 'americans', 'and', 'pacific', 'islanders', 'have', 'been', 'blamed', 'for', 'the', 'pandemic', 'once', 'again', 'if', 'you', 'dare', 'note', 'that', 'the', 'novel', 'coronavirus', 'came', 'from', 'wuhan', 'a', 'mentally', 'ill', 'sex', 'addict', 'is', 'certain', 'to', 'shoot', 'up', 'a', 'brothel', 'in', 'atlantannseem', 'farfetched', 'the', 'white', 'house', 'press', 'secretary', 'agreed', 'with', 'itnnjen', 'psaki', 'you', 'know', 'i', 'think', 'theres', 'no', 'question', 'that', 'some', 'of', 'the', 'damaging', 'rhetoric', 'that', 'we', 'saw', 'during', 'the', 'prior', 'administration', 'blaming', 'you', 'know', 'calling', 'covid', 'you', 'know', 'the', '‘wuhan', 'virus', 'or', 'other', 'things', 'led', 'to', 'you', 'know', 'perceptions', 'of', 'the', 'asianamerican', 'community', 'that', 'are', 'inaccurate', 'unfairnnso', 'white', 'supremacists', 'did', 'it', 'its', 'such', 'a', 'lie', 'asianamericans', 'do', 'suffer', 'quite', 'a', 'few', 'violent', 'attacks', 'in', 'this', 'country', 'unfortunately', 'but', 'theres', 'zero', 'evidence', 'that', 'a', 'rise', 'in', 'white', 'supremacy', 'is', 'driving', 'those', 'attacks', 'we', 'dont', 'have', 'to', 'guess', 'about', 'this', 'because', 'the', 'justice', 'department', 'keeps', 'the', 'numbers', 'according', 'to', 'federal', 'statistics', 'africanamerican', 'perpetrators', 'are', 'more', 'likely', 'than', 'any', 'other', 'group', 'to', 'attack', 'asianamericans', 'it', 'happens', 'quite', 'a', 'bitnnmost', 'racial', 'violence', 'in', 'this', 'country', 'most', 'violence', 'of', 'all', 'kinds', 'occurs', 'within', 'racial', 'groups', 'whites', 'are', 'the', 'most', 'likely', 'to', 'attack', 'whites', 'blacks', 'are', 'the', 'most', 'likely', 'to', 'attack', 'blacks', 'etc', 'the', 'only', 'exception', 'we', 'found', 'were', 'asians', 'asians', 'were', 'more', 'likely', 'to', 'be', 'attacked', 'by', 'africanamericans', 'than', 'by', 'members', 'of', 'their', 'own', 'ethnicitynnwhy', 'is', 'that', 'we', 'cant', 'say', 'for', 'sure', 'and', 'were', 'not', 'going', 'to', 'speculate', 'unlike', 'the', 'other', 'cable', 'channels', 'we', 'will', 'not', 'draw', 'grand', 'and', 'divisive', 'conclusions', 'from', 'this', 'or', 'any', 'data', 'about', 'race', 'its', 'always', 'wrong', 'to', 'blame', 'an', 'entire', 'group', 'for', 'anything', 'ever', 'treat', 'people', 'as', 'individuals', 'first', 'thats', 'the', 'whole', 'point', 'of', 'america', 'we', 'can', 'say', 'this', 'has', 'been', 'going', 'on', 'for', 'quite', 'a', 'while', 'as', 'anyone', 'who', 'lives', 'in', 'a', 'city', 'well', 'knowsnntensions', 'between', 'africanamericans', 'and', 'immigrant', 'korean', 'store', 'owners', 'for', 'example', 'were', 'a', 'central', 'factor', 'in', 'the', 'los', 'angeles', 'riots', 'it', 'wasnt', 'qanon', 'that', 'made', 'violent', 'threats', 'against', 'asian', 'shopkeepers', 'in', 'new', 'york', 'in', 'the', 'it', 'was', 'al', 'sharpton', 'and', 'so', 'on', 'as', 'noted', 'this', 'kind', 'of', 'violence', 'has', 'a', 'long', 'history', 'though', 'the', 'media', 'have', 'done', 'their', 'best', 'to', 'ignore', 'itnnbut', 'now', 'theyre', 'lying', 'to', 'us', 'at', 'very', 'high', 'volume', 'why', 'are', 'they', 'doing', 'that', 'because', 'they', 'need', 'to', 'the', 'democratic', 'coalition', 'is', 'profoundly', 'unstable', 'and', 'becoming', 'more', 'so', 'take', 'a', 'look', 'at', 'the', 'election', 'results', 'allhispanic', 'counties', 'on', 'the', 'mexican', 'border', 'turned', 'red', 'overnight', 'the', 'rise', 'of', 'blm', 'and', 'the', 'riots', 'they', 'led', 'over', 'the', 'summer', 'is', 'a', 'big', 'part', 'of', 'why', 'that', 'is', 'happening', 'decadent', 'white', 'liberals', 'loved', 'the', 'whole', 'thing', 'but', 'no', 'one', 'else', 'did', 'blm', 'came', 'out', 'in', 'favor', 'of', 'abolishing', 'the', 'nuclear', 'family', 'and', 'looting', 'and', 'burning', 'small', 'businessesnnif', 'youre', 'a', 'bearded', 'nihilist', 'living', 'in', 'williamsburg', 'brooklyn', 'with', 'a', 'degree', 'in', 'gender', 'studies', 'from', 'oberlin', 'that', 'might', 'sound', 'pretty', 'great', 'if', 'youre', 'an', 'immigrant', 'chinese', 'or', 'salvadoran', 'running', 'a', 'restaurant', 'or', 'a', 'dry', 'cleaning', 'business', 'it', 'definitely', 'doesnt', 'sound', 'great', 'you', 'care', 'most', 'of', 'all', 'about', 'your', 'family', 'you', 'desperately', 'need', 'your', 'business', 'so', 'the', 'democratic', 'party', 'is', 'at', 'risk', 'of', 'losing', 'voters', 'like', 'this', 'again', 'look', 'at', 'the', 'last', 'election', 'results', 'carefully', 'at', 'this', 'point', 'the', 'medias', 'job', 'is', 'to', 'remind', 'these', 'voters', 'they', 'need', 'to', 'stay', 'in', 'the', 'democratic', 'party', 'because', 'the', 'real', 'enemy', 'is', 'straight', 'white', 'men', 'so', 'thats', 'what', 'theyre', 'doingnnnicolle', 'wallace', 'msnbc', 'i', 'just', 'keep', 'thinking', 'of', 'that', 'domestic', 'terror', 'alert', 'warning', 'we', 'got', 'shortly', 'after', 'the', 'insurrection', 'it', 'warned', 'us', 'that', 'until', 'the', 'end', 'of', 'april', 'wed', 'be', 'living', 'under', 'the', 'threat', 'of', 'domestic', 'violence', 'extremism', 'from', 'a', 'combination', 'of', 'white', 'supremacists', 'militias', 'and', 'extremists', 'who', 'are', 'angry', 'about', 'both', 'the', 'election', 'results', 'because', 'of', 'donald', 'trumps', 'big', 'lie', 'and', 'the', 'covid', 'restrictions', 'i', 'wonder', 'if', 'you', 'can', 'speak', 'to', 'the', 'intersection', 'of', 'that', 'group', 'we', 'were', 'warned', 'about', 'publicly', 'and', 'the', 'targeting', 'of', 'asian', 'americansnnwhite', 'supremacists', 'and', 'militias', 'who', 'were', 'angry', 'about', 'covid', 'restrictions', 'thats', 'who', 'committed', 'mass', 'murder', 'in', 'atlanta', 'on', 'tuesday', 'its', 'tempting', 'to', 'laugh', 'at', 'lies', 'like', 'this', 'and', 'at', 'that', 'buffoon', 'nicolle', 'wallace', 'especially', 'whod', 'believe', 'a', 'word', 'she', 'says', 'but', 'keep', 'in', 'mind', 'the', 'more', 'they', 'say', 'it', 'the', 'more', 'people', 'believe', 'it', 'and', 'the', 'more', 'power', 'they', 'can', 'grab', 'on', 'the', 'basis', 'of', 'those', 'lies', 'nnwe', 'have', 'seen', 'that', 'happen', 'in', 'the', 'two', 'months', 'since', 'jan', 'at', 'first', 'it', 'was', 'almost', 'amusing', 'to', 'hear', 'them', 'call', 'that', 'a', 'white', 'supremacist', 'insurrection', 'it', 'was', 'so', 'stupid', 'but', 'now', 'two', 'months', 'later', 'its', 'all', 'but', 'established', 'history', 'theyre', 'changing', 'the', 'country', 'on', 'the', 'basis', 'of', 'those', 'lies', 'they', 'repeat', 'them', 'until', 'people', 'believe', 'them', 'and', 'then', 'they', 'act', 'never', 'underestimate', 'the', 'power', 'of', 'propaganda', 'thats', 'why', 'they', 'use', 'it', 'its', 'not', 'an', 'accidentnnnew', 'york', 'city', 'mayor', 'bill', 'de', 'blasio', 'is', 'wasting', 'no', 'time', 'he', 'is', 'already', 'using', 'what', 'happened', 'in', 'atlanta', 'on', 'tuesday', 'to', 'justify', 'siccing', 'the', 'nypd', 'on', 'anyone', 'who', 'disagrees', 'with', 'himnnde', 'blasio', 'i', 'also', 'think', 'even', 'if', 'something', 'is', 'not', 'a', 'criminal', 'case', 'a', 'perpetrator', 'being', 'confronted', 'by', 'the', 'city', 'whether', 'its', 'nypd', 'or', 'another', 'agency', '–', 'and', 'being', 'told', 'that', 'what', 'they', 'did', 'was', 'very', 'hurtful', 'to', 'another', 'person', 'and', 'could', 'if', 'ever', 'repeated', 'could', 'lead', 'to', 'criminal', 'charges', '–', 'thats', 'another', 'important', 'piece', 'of', 'the', 'puzzlenneven', 'if', 'something', 'is', 'not', 'a', 'criminal', 'case', 'the', 'police', 'can', 'respond', 'even', 'if', 'its', 'not', 'a', 'crime', 'what', 'is', 'de', 'blasio', 'saying', 'here', 'the', 'mayor', 'of', 'new', 'york', 'is', 'calling', 'for', 'armed', 'thought', 'police', 'in', 'americas', 'biggest', 'city', 'laugh', 'if', 'you', 'want', 'at', 'that', 'de', 'blasios', 'a', 'joke', 'right', 'just', 'wait', 'what', 'sounds', 'absurd', 'today', 'becomes', 'established', 'practice', 'sooner', 'than', 'you', 'think'], ['at', 'an', 'office', 'where', 'i', 'worked', 'some', 'years', 'ago', 'a', 'male', 'coworker', 'would', 'repeatedly', 'stop', 'by', 'my', 'desk', 'and', 'interrupt', 'my', 'work', 'to', 'talk', 'about', 'sex', 'one', 'of', 'my', 'colleagues', 'who', 'got', 'fed', 'up', 'overhearing', 'this', 'made', 'a', 'sexual', 'harassment', 'complaint', 'on', 'my', 'behalf', 'to', 'the', 'human', 'resources', 'department', 'without', 'my', 'permission', 'not', 'that', 'i', 'cared', 'i', 'got', 'called', 'in', 'by', 'hr', 'and', 'was', 'told', 'i', 'have', 'heard', 'your', 'complaint', 'about', 'racial', 'discrimination', 'i', 'think', 'it', 'is', 'invalidnnhuh', 'i', 'hadnt', 'said', 'anything', 'about', 'race', 'nor', 'as', 'far', 'as', 'anyone', 'ever', 'told', 'me', 'had', 'my', 'colleague', 'who', 'had', 'reported', 'the', 'talking', 'about', 'sex', 'behavior', 'the', 'hr', 'staffer', 'then', 'started', 'to', 'say', 'something', 'about', 'sex', 'discrimination', 'which', 'i', 'hadnt', 'mentioned', 'either', 'then', 'this', 'person', 'said', 'that', 'there', 'was', 'a', 'separate', 'procedure', 'for', 'each', 'of', 'these', 'complaints', 'and', 'that', 'i', 'had', 'to', 'pick', 'one', 'hr', 'was', 'attempting', 'to', 'claim', 'metaphorically', 'speaking', 'that', 'the', 'crime', 'scene', 'was', 'too', 'messy', 'to', 'investigate', 'in', 'other', 'words', 'the', 'company', 'was', 'pulling', 'a', 'classic', 'magicians', 'trick', 'misdirectionnnwith', 'the', 'recent', 'shooting', 'at', 'three', 'spas', 'in', 'atlanta', 'georgia', 'in', 'which', 'eight', 'women', 'six', 'of', 'whom', 'were', 'asian', 'were', 'killed', 'a', 'similar', 'dynamic', 'appears', 'to', 'be', 'at', 'play', 'but', 'on', 'a', 'significantly', 'more', 'serious', 'scale', 'days', 'after', 'the', 'shooting', 'local', 'law', 'enforcement', 'has', 'yet', 'to', 'call', 'this', 'a', 'hate', 'crime', 'instead', 'they', 'have', 'been', 'shuffling', 'around', 'several', 'potential', 'and', 'inaccurate', 'labels', 'like', 'a', 'shell', 'game', 'on', 'a', 'street', 'corner', 'the', 'alleged', 'shooter', 'told', 'police', 'essentially', 'that', 'he', 'was', 'suffering', 'from', 'horniness', 'apparently', 'the', 'kind', 'that', 'only', 'a', 'gun', 'could', 'fix', 'and', 'got', 'up', 'on', 'the', 'wrong', 'side', 'of', 'the', 'bed', 'dont', 'know', 'the', 'result', 'misdirectionnnto', 'be', 'absolutely', 'clear', 'atlanta', 'mayor', 'keisha', 'lance', 'bottoms', 'has', 'done', 'the', 'right', 'thing', 'telling', 'cnn', 'it', 'looked', 'like', 'a', 'hate', 'crime', 'to', 'me', 'but', 'as', 'far', 'as', 'her', 'citys', 'law', 'enforcement', 'is', 'concerned', 'we', 'are', 'just', 'not', 'there', 'as', 'of', 'yet', 'in', 'the', 'words', 'of', 'rodney', 'bryant', 'the', 'acting', 'chief', 'of', 'the', 'atlanta', 'police', 'department', 'fbi', 'director', 'christopher', 'wray', 'echoed', 'the', 'apds', 'stance', 'telling', 'npr', 'in', 'an', 'interview', 'published', 'on', 'thursday', 'it', 'does', 'not', 'appear', 'that', 'the', 'motive', 'was', 'racially', 'motivated', 'but', 'i', 'really', 'would', 'defer', 'to', 'the', 'state', 'and', 'local', 'investigation', 'on', 'that', 'for', 'nownna', 'captain', 'with', 'the', 'cherokee', 'county', 'sheriffs', 'office', 'referred', 'to', 'robert', 'aaron', 'longs', 'alleged', 'sex', 'addiction', 'as', 'a', 'possible', 'motive', 'capt', 'jay', 'baker', 'offered', 'in', 'a', 'press', 'conference', 'wednesday', 'that', 'the', 'confessed', 'shooters', 'motive', 'seemed', 'to', 'be', 'lust', 'a', 'temptation', 'that', 'he', 'wanted', 'to', 'eliminate', 'baker', 'has', 'since', 'been', 'removed', 'from', 'the', 'case', 'but', 'the', 'damage', 'is', 'done', 'hes', 'already', 'used', 'his', 'influence', 'to', 'sell', 'on', 'national', 'tv', 'the', 'standard', 'cocktail', 'of', 'sexual', 'fetishism', 'asian', 'females', 'and', 'provoked', 'violencenremarks', 'such', 'as', 'bakers', 'imply', 'that', 'the', 'victims', 'were', 'sex', 'workers', 'even', 'though', 'bottoms', 'stated', 'that', 'the', 'spas', 'were', 'legally', 'operating', 'businesses', 'with', 'no', 'police', 'records', 'of', 'wrongdoing', 'besides', 'which', 'who', 'cares', 'what', 'a', 'persons', 'job', 'is', 'at', 'the', 'time', 'of', 'their', 'slaughter', 'if', 'you', 'think', 'that', 'having', 'a', 'respectable', 'occupation', 'can', 'spare', 'you', 'from', 'a', 'wanton', 'murder', 'spree', 'please', 'tell', 'your', 'kid', 'that', 'if', 'theres', 'a', 'school', 'shooting', 'they', 'should', 'show', 'the', 'shooter', 'their', 'student', 'idnndo', 'not', 'let', 'them', 'confuse', 'younndid', 'long', 'have', 'other', 'motives', 'besides', 'race', 'yesterday', 'was', 'a', 'really', 'bad', 'day', 'for', 'him', 'baker', 'told', 'reporters', 'wednesday', 'by', 'way', 'of', 'explaining', 'longs', 'alleged', 'actions', 'what', 'a', 'compassionate', 'mensch', 'this', 'baker', 'is', 'his', 'was', 'a', 'display', 'of', 'empathy', 'in', 'the', 'true', 'sense', 'the', 'word', 'as', 'has', 'since', 'been', 'widely', 'reported', 'bakers', 'social', 'media', 'appears', 'to', 'have', 'been', 'plugging', 'tshirts', 'last', 'year', 'bearing', 'the', 'slogan', 'imported', 'virus', 'from', 'chyna', 'the', 'account', 'that', 'posted', 'it', 'has', 'been', 'deleted', 'and', 'when', 'contacted', 'by', 'cnn', 'about', 'the', 'post', 'baker', 'told', 'cnn', 'no', 'additional', 'commentnyou', 'see', 'whats', 'going', 'on', 'here', 'right', 'as', 'the', 'late', 'writer', 'toni', 'morrison', 'famously', 'said', 'in', 'a', 'lecture', 'on', 'race', 'the', 'function', 'the', 'very', 'serious', 'function', 'of', 'racism', 'is', 'distraction', 'it', 'keeps', 'you', 'from', 'doing', 'your', 'work', 'it', 'really', 'is', 'the', 'red', 'flag', 'that', 'the', 'toreador', 'dances', 'before', 'the', 'head', 'of', 'a', 'bull', 'its', 'purpose', 'to', 'keep', 'the', 'bulls', 'mind', 'away', 'from', 'his', 'power', 'and', 'his', 'energynthe', 'atlanta', 'killings', 'come', 'on', 'the', 'heels', 'of', 'a', 'growing', 'spate', 'of', 'antiasian', 'attacks', 'taking', 'various', 'forms', 'some', 'violent', 'and', 'random', 'some', 'verbal', 'and', 'vengeful', 'i', 'could', 'name', 'them', 'but', 'after', 'a', 'certain', 'point', 'its', 'just', 'an', 'exercise', 'in', 'seeing', 'how', 'high', 'you', 'can', 'count', 'its', 'tempting', 'to', 'want', 'to', 'just', 'stop', 'and', 'turn', 'away', 'which', 'is', 'exactly', 'what', 'hate', 'crime', 'skeptics', 'want', 'you', 'to', 'do', 'detach', 'from', 'the', 'human', 'realitynthe', 'watchdog', 'group', 'stop', 'aapi', 'hate', 'which', 'started', 'tracking', 'antiasian', 'attacks', 'shortly', 'after', 'the', 'covid', 'pandemic', 'began', 'released', 'a', 'report', 'just', 'before', 'news', 'of', 'the', 'atlanta', 'shooting', 'broke', 'the', 'group', 'received', 'complaints', 'of', 'racism', 'and', 'discrimination', 'since', 'this', 'time', 'last', 'year', 'and', 'according', 'to', 'a', 'study', 'of', 'police', 'data', 'released', 'by', 'the', 'center', 'for', 'the', 'study', 'of', 'hate', 'and', 'extremism', 'at', 'california', 'state', 'university', 'in', 'san', 'bernardino', 'hate', 'crimes', 'against', 'asian', 'americans', 'in', 'us', 'cities', 'rose', 'in', 'over', 'the', 'previous', 'year', 'new', 'york', 'city', 'saw', 'an', 'alarming', 'rise', 'during', 'the', 'same', 'want', 'to', 'be', 'asian', 'at', 'college', 'student', 'tells', 'cnn', 'nni', 'didnt', 'want', 'to', 'be', 'asian', 'at', 'all', 'college', 'student', 'tells', 'cnn', 'if', 'the', 'past', 'months', 'have', 'taught', 'us', 'anything', 'its', 'that', 'an', 'alarming', 'number', 'of', 'people', 'are', 'unmoved', 'by', 'statistics', 'and', 'facts', 'antimaskers', 'made', 'it', 'very', 'clear', 'what', 'they', 'thought', 'of', 'graphs', 'charting', 'covid', 'cases', 'or', 'scientific', 'research', 'linking', 'mask', 'use', 'to', 'covid', 'preventionnalong', 'similar', 'lines', 'when', 'it', 'comes', 'to', 'antiasian', 'hate', 'crimes', 'an', 'abundance', 'of', 'evidence', 'doesnt', 'seem', 'to', 'matter', 'to', 'too', 'many', 'peoplenthis', 'is', 'how', 'it', 'goes', 'people', 'want', 'proof', 'a', 'hate', 'crime', 'has', 'been', 'committed', 'you', 'provide', 'proof', 'they', 'say', 'your', 'proof', 'is', 'anecdotal', 'you', 'ask', 'how', 'many', 'racial', 'bias', 'incidents', 'it', 'would', 'take', 'for', 'them', 'to', 'be', 'embarrassed', 'by', 'the', 'word', 'anecdotal', 'they', 'shift', 'the', 'subject', 'the', 'shooter', 'doesnt', 'hate', 'asians', 'he', 'hates', 'women', 'no', 'he', 'doesnt', 'hate', 'women', 'exactly', 'he', 'hates', 'how', 'they', 'make', 'him', 'feel', 'are', 'you', 'saying', 'sex', 'addiction', 'isnt', 'a', 'real', 'malady', 'what', 'about', 'bill', 'clintonnnso', 'what', 'can', 'you', 'do', 'how', 'can', 'you', 'help', 'morrisons', 'advice', 'goes', 'for', 'everyone', 'regardless', 'of', 'background', 'recognize', 'when', 'someone', 'is', 'creating', 'a', 'distraction', 'and', 'call', 'them', 'out', 'on', 'it', 'as', 'tempting', 'as', 'it', 'is', 'to', 'get', 'caught', 'up', 'in', 'ancillary', 'arguments', 'that', 'are', 'designed', 'to', 'put', 'you', 'on', 'the', 'defensive', 'keep', 'asking', 'the', 'hard', 'questions', 'and', 'do', 'not', 'deviate', 'dont', 'waste', 'your', 'sleuthing', 'skills', 'to', 'get', 'to', 'the', 'bottom', 'of', 'whether', 'the', 'women', 'were', 'sex', 'workers', 'dont', 'get', 'caught', 'up', 'on', 'ontological', 'debates', 'about', 'whether', 'this', 'shooting', 'was', 'more', 'about', 'sex', 'or', 'more', 'about', 'racenwhen', 'people', 'are', 'trying', 'to', 'distract', 'you', 'by', 'tossing', 'around', 'lots', 'of', 'small', 'questions', 'its', 'usually', 'because', 'they', 'are', 'hiding', 'one', 'big', 'billboardsized', 'neon', 'sign', 'of', 'a', 'questionnresisting', 'distraction', 'is', 'not', 'just', 'for', 'marginalized', 'groups', 'anyone', 'regardless', 'of', 'background', 'can', 'take', 'the', 'advice', 'of', 'robert', 'owen', 'the', 'welsh', 'industrialist', 'philanthropist', 'social', 'justice', 'warrior', 'and', 'white', 'dude', 'dont', 'argue', 'repeat', 'your', 'assertion', 'or', 'in', 'this', 'case', 'repeat', 'your', 'question', 'how', 'is', 'this', 'not', 'a', 'hate', 'crimenask', 'until', 'you', 'get', 'your', 'answer'], ['it', 'is', 'striking', 'to', 'see', 'how', 'quickly', 'our', 'media', 'has', 'racialized', 'the', 'narrative', 'of', 'the', 'horrific', 'murders', 'at', 'the', 'georgia', 'massage', 'parlors', 'from', 'what', 'we', 'know', 'so', 'far', 'the', 'alleged', 'murderer', 'was', 'a', 'young', 'man', 'tormented', 'by', 'his', 'compulsive', 'sexual', 'desires', 'he', 'visited', 'massage', 'parlors', 'in', 'the', 'past', 'and', 'went', 'to', 'this', 'one', 'to', 'kill', 'the', 'women', 'he', 'once', 'depended', 'on', 'to', 'gratify', 'his', 'desires', 'from', 'all', 'the', 'available', 'evidence', 'these', 'killings', 'were', 'the', 'misogynistic', 'act', 'of', 'a', 'sexually', 'depraved', 'mannnbut', 'the', 'media', 'and', 'others', 'are', 'bound', 'and', 'determined', 'to', 'make', 'this', 'a', 'racial', 'thing', 'because', 'six', 'of', 'the', 'dead', 'women', 'are', 'asian', 'the', 'same', 'media', 'who', 'couldnt', 'figure', 'out', 'the', 'racial', 'angle', 'when', 'black', 'men', 'attacked', 'asians', 'on', 'the', 'street', 'without', 'provocation', 'now', 'seem', 'giddy', 'over', 'the', 'prospect', 'of', 'an', 'antiasian', 'hate', 'crime', 'committed', 'by', 'a', 'white', 'man', 'the', 'new', 'york', 'times', 'for', 'example', 'the', 'washington', 'postnnthe', 'alleged', 'killer', 'himself', 'admitted', 'that', 'the', 'motivation', 'for', 'his', 'crime', 'was', 'sexual', 'not', 'racial', 'but', 'our', 'media', 'cannot', 'allow', 'that', 'to', 'stand', 'they', 'are', 'going', 'to', 'find', 'a', 'way', 'to', 'racialize', 'the', 'story', 'no', 'matter', 'whatnnand', 'not', 'just', 'the', 'media', 'evangelical', 'commenter', 'ed', 'stetzer', 'of', 'wheaton', 'college', 'writesnnoh', 'come', 'on', 'absolutely', 'christians', 'and', 'everybody', 'else', 'ought', 'to', 'be', 'opposed', 'to', 'antiasian', 'racism', 'but', 'stetzer', 'calls', 'this', 'racially', 'connected', 'violence', 'as', 'if', 'the', 'fact', 'that', 'most', 'of', 'the', 'victims', 'were', 'asian', 'makes', 'racist', 'motive', 'clear', 'if', 'these', 'killings', 'really', 'are', 'driven', 'by', 'racial', 'hatred', 'then', 'by', 'all', 'means', 'lets', 'confront', 'that', 'demon', 'and', 'exorcise', 'it', 'but', 'there', 'is', 'no', 'reason', 'at', 'this', 'point', 'to', 'believe', 'that', 'in', 'many', 'cities', 'if', 'you', 'want', 'to', 'go', 'to', 'a', 'massage', 'parlor', 'for', 'sexual', 'activity', 'those', 'places', 'will', 'be', 'staffed', 'by', 'asian', 'women', 'its', 'well', 'worth', 'asking', 'why', 'and', 'if', 'these', 'are', 'women', 'who', 'were', 'sexually', 'trafficked', 'into', 'sex', 'slavery', 'but', 'at', 'this', 'point', 'we', 'dont', 'even', 'know', 'if', 'the', 'killer', 'had', 'a', 'sexual', 'fetish', 'for', 'asian', 'women', 'all', 'we', 'know', 'is', 'that', 'he', 'went', 'to', 'massage', 'parlors', 'it', 'is', 'more', 'reasonable', 'to', 'think', 'that', 'he', 'went', 'to', 'massage', 'parlors', 'for', 'the', 'same', 'reason', 'that', 'willie', 'sutton', 'robbed', 'banks', 'because', 'thats', 'where', 'the', 'money', 'isnnthe', 'alleged', 'killer', 'is', 'also', 'a', 'southern', 'baptist', 'so', 'now', 'we', 'are', 'seeing', 'southern', 'baptists', 'demonized', 'stetzer', 'who', 'is', 'baptist', 'againnnthe', 'washington', 'post', 'wrote', 'a', 'story', 'about', 'the', 'alleged', 'killers', 'connections', 'to', 'his', 'southern', 'baptist', 'church', 'excerptsnnwait', 'a', 'damn', 'minute', 'here', 'the', 'story', 'says', 'correctly', 'that', 'pastors', 'preach', 'on', 'the', 'apocalypse', 'all', 'the', 'time', 'and', 'the', 'reporters', 'dont', 'even', 'know', 'if', 'the', 'suspect', 'was', 'in', 'church', 'to', 'hear', 'that', 'sermon', 'but', 'theyre', 'still', 'going', 'to', 'bring', 'it', 'up', 'why', 'on', 'earth', 'would', 'they', 'do', 'that', 'if', 'not', 'to', 'connect', 'a', 'bogstandard', 'baptist', 'sermon', 'about', 'the', 'end', 'times', 'to', 'the', 'murderous', 'mindset', 'of', 'a', 'man', 'who', 'the', 'papers', 'reporters', 'dont', 'even', 'know', 'for', 'sure', 'was', 'in', 'church', 'that', 'day', 'nnthe', 'story', 'goes', 'on', 'to', 'talk', 'about', 'how', 'the', 'murders', 'might', 'be', 'connected', 'to', 'conservative', 'southern', 'baptist', 'theology', 'there', 'are', 'something', 'like', 'million', 'southern', 'baptists', 'in', 'america', 'about', 'half', 'of', 'them', 'are', 'men', 'eight', 'million', 'men', 'have', 'been', 'exposed', 'to', 'some', 'degree', 'to', 'conservative', 'southern', 'baptist', 'teachings', 'about', 'sexual', 'purity', 'but', 'this', 'is', 'the', 'first', 'one', 'who', 'has', 'gone', 'out', 'and', 'shot', 'women', 'at', 'a', 'massage', 'parlor', 'does', 'it', 'even', 'occur', 'to', 'these', 'journalists', 'and', 'commentators', 'that', 'the', 'problem', 'here', 'is', 'not', 'necessarily', 'southern', 'baptist', 'theology', 'but', 'a', 'depraved', 'young', 'man', 'of', 'course', 'not', 'anything', 'to', 'destroy', 'ones', 'culture', 'war', 'enemiesnnof', 'course', 'i', 'know', 'nothing', 'about', 'how', 'southern', 'baptist', 'churches', 'teach', 'sexuality', 'i', 'may', 'well', 'agree', 'on', 'certain', 'points', 'with', 'critics', 'of', 'their', 'approach', 'but', 'it', 'is', 'slanderous', 'and', 'inciteful', 'on', 'its', 'face', 'to', 'blame', 'southern', 'baptist', 'theology', 'for', 'these', 'murders', 'with', 'almost', 'no', 'evidence', 'whatsoeverwe', 'know', 'that', 'serial', 'killers', 'often', 'target', 'prostitutes', 'for', 'a', 'variety', 'of', 'reasons', 'including', 'a', 'contempt', 'for', 'women', 'who', 'do', 'sex', 'workif', 'the', 'women', 'at', 'these', 'spas', 'were', 'prostitutes', 'then', 'what', 'long', 'is', 'alleged', 'to', 'have', 'done', 'is', 'explainable', 'by', 'misogyny', 'and', 'his', 'turning', 'outward', 'his', 'hatred', 'of', 'himself', 'for', 'having', 'uncontrollable', 'sexual', 'desires', 'we', 'know', 'that', 'long', 'was', 'so', 'tormented', 'by', 'his', 'demons', 'his', 'obsessions', 'with', 'sex', 'and', 'pornography', 'that', 'he', 'went', 'to', 'rehab', 'for', 'sexual', 'addictionwe', 'also', 'know', 'that', 'he', 'was', 'a', 'quiet', 'loner', 'and', 'weirdo', 'in', 'high', 'school', 'who', 'was', 'sometimes', 'bulliednnevery', 'young', 'christian', 'man', 'who', 'takes', 'the', 'teachings', 'of', 'his', 'faith', 'seriously', 'and', 'tries', 'to', 'live', 'by', 'them', 'struggles', 'to', 'conquer', 'sexual', 'desire', 'this', 'is', 'normal', 'this', 'does', 'not', 'turn', 'them', 'into', 'monsters', 'where', 'are', 'all', 'the', 'other', 'southern', 'baptist', 'misogynist', 'serial', 'killers', 'they', 'dont', 'exist', 'we', 'are', 'likely', 'to', 'find', 'out', 'that', 'this', 'long', 'fellow', 'had', 'deep', 'psychological', 'problems', 'again', 'he', 'went', 'to', 'rehab', 'for', 'his', 'sex', 'addiction', 'but', 'hey', 'why', 'miss', 'this', 'opportunity', 'to', 'slander', 'and', 'slime', 'conservative', 'southern', 'baptists', 'the', 'fact', 'that', 'conservative', 'southern', 'baptists', 'are', 'against', 'critical', 'race', 'theory', 'is', 'incredibly', 'also', 'trotted', 'out', 'in', 'this', 'story', 'as', 'if', 'that', 'had', 'anything', 'to', 'do', 'with', 'mass', 'murdernnthe', 'post', 'had', 'this', 'paragraph', 'which', 'explains', 'a', 'lot', 'of', 'the', 'coverage', 'were', 'seeingnnand', 'there', 'it', 'is', 'the', 'alleged', 'killer', 'has', 'said', 'point', 'blank', 'that', 'he', 'did', 'not', 'target', 'his', 'victims', 'because', 'they', 'were', 'asian', 'that', 'their', 'race', 'was', 'just', 'a', 'coincidence', 'but', 'disparate', 'impact', 'theory', 'makes', 'his', 'murders', 'racist', 'even', 'if', 'the', 'killer', 'himself', 'said', 'they', 'were', 'not', 'and', 'even', 'if', 'all', 'the', 'available', 'evidence', 'indicates', 'that', 'these', 'killings', 'were', 'acts', 'of', 'a', 'depraved', 'man', 'who', 'was', 'driven', 'to', 'homicide', 'by', 'his', 'sexual', 'urges', 'it', 'just', 'feels', 'too', 'good', 'to', 'our', 'elites', 'media', 'professors', 'et', 'alia', 'to', 'blame', 'their', 'ideological', 'enemiesnni', 'say', 'this', 'all', 'the', 'time', 'on', 'this', 'blog', 'but', 'it', 'cant', 'be', 'said', 'often', 'enough', 'here', 'is', 'a', 'quote', 'from', 'live', 'not', 'by', 'liesnnfor', 'these', 'journalists', 'academics', 'preachers', 'politicians', 'and', 'other', 'commenters', 'the', 'most', 'important', 'thing', 'to', 'know', 'about', 'the', 'mass', 'murders', 'in', 'atlanta', 'is', 'that', 'the', 'victims', 'were', 'asian', 'women', 'and', 'the', 'confessed', 'killer', 'was', 'a', 'white', 'male', 'southern', 'baptist', 'no', 'facts', 'that', 'complicate', 'the', 'narrative', 'should', 'be', 'allowed', 'to', 'interfere', 'with', 'the', 'conclusions', 'drawn', 'which', 'is', 'that', 'this', 'is', 'the', 'fault', 'of', 'white', 'supremacy', 'and', 'religious', 'conservatismnnwe', 'are', 'in', 'the', 'middle', 'of', 'a', 'moral', 'panic', 'over', 'race', 'and', 'racism', 'in', 'this', 'country', 'a', 'panic', 'driven', 'by', 'the', 'media', 'and', 'elite', 'institutions', 'we', 'are', 'seeing', 'a', 'horrible', 'act', 'of', 'mass', 'murder', 'being', 'turned', 'into', 'a', 'culturewar', 'weapon', 'by', 'people', 'who', 'are', 'not', 'seeking', 'understanding', 'but', 'just', 'looking', 'for', 'enemies', 'and', 'looking', 'to', 'reinforce', 'an', 'intoxicating', 'narrativennupdate', 'ok', 'ok', 'some', 'of', 'you', 'are', 'saying', 'why', 'should', 'we', 'believe', 'the', 'killer', 'when', 'he', 'says', 'he', 'didnt', 'kill', 'out', 'of', 'racial', 'motives', 'well', 'usually', 'when', 'someone', 'confesses', 'to', 'a', 'crime', 'and', 'says', 'this', 'is', 'why', 'i', 'did', 'it', 'we', 'give', 'them', 'the', 'benefit', 'of', 'the', 'doubt', 'especially', 'if', 'the', 'facts', 'in', 'the', 'case', 'fit', 'the', 'claim', 'we', 'know', 'that', 'long', 'has', 'a', 'history', 'of', 'disordered', 'sexuality', 'and', 'went', 'to', 'rehab', 'for', 'sex', 'addiction', 'he', 'says', 'he', 'visited', 'those', 'massage', 'parlors', 'before', 'it', 'stands', 'to', 'reason', 'that', 'a', 'deeply', 'religious', 'man', 'who', 'is', 'sexually', 'compulsive', 'and', 'tormented', 'by', 'his', 'desires', 'would', 'seek', 'to', 'eliminate', 'what', 'he', 'believed', 'to', 'be', 'the', 'sources', 'of', 'his', 'torment', 'to', 'be', 'clear', 'those', 'victims', 'were', 'innocent', 'the', 'sources', 'of', 'longs', 'torment', 'were', 'inside', 'of', 'longnnthere', 'is', 'a', 'single', 'korean', 'media', 'report', 'in', 'which', 'someone', 'says', 'that', 'the', 'killer', 'said', 'he', 'was', 'going', 'to', 'kill', 'all', 'asiansnnit', 'may', 'yet', 'come', 'out', 'that', 'long', 'was', 'motivated', 'by', 'racism', 'if', 'so', 'lets', 'confront', 'that', 'ugly', 'reality', 'my', 'point', 'is', 'that', 'people', 'in', 'the', 'media', 'and', 'in', 'progressive', 'circles', 'are', 'acting', 'as', 'if', 'they', 'are', 'excited', 'to', 'pin', 'all', 'of', 'this', 'on', 'race', 'hatred', 'when', 'that', 'may', 'play', 'little', 'or', 'no', 'role', 'at', 'all', 'in', 'why', 'that', 'man', 'killed', 'all', 'those', 'people', 'not', 'all', 'of', 'his', 'victims', 'were', 'asian', 'toonna', 'bigmouth', 'evangelical', 'racebaiter', 'at', 'the', 'kings', 'college', 'in', 'new', 'york', 'is', 'now', 'trying', 'to', 'blame', 'longs', 'baptist', 'church', 'and', 'the', 'movement', 'for', 'what', 'long', 'didnnthis', 'is', 'utter', 'slander', 'and', 'disgusting', 'of', 'course', 'bradley', 'will', 'get', 'away', 'with', 'itnnwe', 'are', 'moving', 'towards', 'a', 'war', 'of', 'all', 'against', 'i', 'think', 'people', 'must', 'have', 'this', 'idea', 'that', 'long', 'chose', 'to', 'attack', 'asian', 'massage', 'parlors', 'because', 'he', 'hates', 'asians', 'in', 'fact', 'based', 'on', 'what', 'we', 'know', 'at', 'this', 'point', 'he', 'went', 'to', 'those', 'massage', 'parlors', 'to', 'kill', 'because', 'those', 'were', 'the', 'ones', 'he', 'had', 'gone', 'to', 'for', 'sexnnwhy', 'would', 'have', 'have', 'gone', 'to', 'asian', 'massage', 'parlors', 'for', 'sex', 'and', 'not', 'to', 'other', 'massage', 'parlors', 'because', 'lowend', 'asian', 'massage', 'parlors', 'are', 'often', 'fronts', 'for', 'prostitution', 'the', 'new', 'york', 'times', 'did', 'a', 'story', 'on', 'this', 'phenomenon', 'in', 'excerptsnnnif', 'you', 'are', 'some', 'countryhick', 'georgia', 'baptist', 'who', 'wants', 'to', 'see', 'a', 'prostitute', 'you', 'are', 'probably', 'going', 'to', 'figure', 'your', 'best', 'chance', 'is', 'to', 'go', 'to', 'a', 'stripmall', 'asian', 'massage', 'parlorn']]\n"
     ]
    }
   ],
   "source": [
    "# create list of words\n",
    "word_list = []\n",
    "for i in corpus.index:\n",
    "    word_list.append(corpus.loc[i][0].split())\n",
    "print(word_list)"
   ]
  },
  {
   "cell_type": "code",
   "execution_count": 24,
   "metadata": {},
   "outputs": [
    {
     "data": {
      "text/plain": [
       "<gensim.corpora.dictionary.Dictionary at 0x7fce083515b0>"
      ]
     },
     "execution_count": 24,
     "metadata": {},
     "output_type": "execute_result"
    }
   ],
   "source": [
    "# create id2word\n",
    "id2word = corpora.Dictionary(word_list)\n",
    "id2word"
   ]
  },
  {
   "cell_type": "code",
   "execution_count": 22,
   "metadata": {},
   "outputs": [],
   "source": [
    "# change term-document matrix into a format for gensim, from df --> sparse matrix --> gensim corpus\n",
    "sparse_counts = scipy.sparse.csr_matrix(tdm)\n",
    "corpus = matutils.Sparse2Corpus(sparse_counts)"
   ]
  },
  {
   "cell_type": "code",
   "execution_count": 26,
   "metadata": {
    "scrolled": false
   },
   "outputs": [
    {
     "data": {
      "text/plain": [
       "[(0,\n",
       "  '0.007*\"word\" + 0.006*\"welsh\" + 0.006*\"but\" + 0.005*\"completely\" + 0.005*\"describe\" + 0.004*\"cha\" + 0.004*\"thousand\" + 0.004*\"believe\" + 0.004*\"obsessive\" + 0.004*\"might\"'),\n",
       " (1,\n",
       "  '0.009*\"but\" + 0.008*\"describe\" + 0.007*\"completely\" + 0.007*\"word\" + 0.006*\"welsh\" + 0.005*\"believe\" + 0.004*\"tyler\" + 0.004*\"march\" + 0.004*\"cha\" + 0.004*\"wrong\"')]"
      ]
     },
     "execution_count": 26,
     "metadata": {},
     "output_type": "execute_result"
    }
   ],
   "source": [
    "num_topics = 2\n",
    "lda_model = gensim.models.LdaMulticore(corpus=corpus, id2word=id2word, num_topics=num_topics)\n",
    "# Print the Keyword in the 10 topics\n",
    "doc_lda = lda_model[corpus]\n",
    "lda_model.print_topics()"
   ]
  },
  {
   "cell_type": "code",
   "execution_count": null,
   "metadata": {},
   "outputs": [],
   "source": []
  },
  {
   "cell_type": "code",
   "execution_count": null,
   "metadata": {},
   "outputs": [],
   "source": []
  },
  {
   "cell_type": "code",
   "execution_count": null,
   "metadata": {},
   "outputs": [],
   "source": []
  },
  {
   "cell_type": "code",
   "execution_count": null,
   "metadata": {},
   "outputs": [],
   "source": [
    "# BUNCH OF CODE IM COPY PASTING"
   ]
  },
  {
   "cell_type": "code",
   "execution_count": 27,
   "metadata": {},
   "outputs": [
    {
     "ename": "FileNotFoundError",
     "evalue": "[Errno 2] No such file or directory: 'data_clean.pkl'",
     "output_type": "error",
     "traceback": [
      "\u001b[0;31m---------------------------------------------------------------------------\u001b[0m",
      "\u001b[0;31mFileNotFoundError\u001b[0m                         Traceback (most recent call last)",
      "Input \u001b[0;32mIn [27]\u001b[0m, in \u001b[0;36m<cell line: 12>\u001b[0;34m()\u001b[0m\n\u001b[1;32m      9\u001b[0m     \u001b[38;5;28;01mreturn\u001b[39;00m \u001b[38;5;124m'\u001b[39m\u001b[38;5;124m \u001b[39m\u001b[38;5;124m'\u001b[39m\u001b[38;5;241m.\u001b[39mjoin(all_nouns)\n\u001b[1;32m     11\u001b[0m \u001b[38;5;66;03m# Read in the cleaned data, before the CountVectorizer step\u001b[39;00m\n\u001b[0;32m---> 12\u001b[0m data_clean \u001b[38;5;241m=\u001b[39m \u001b[43mpd\u001b[49m\u001b[38;5;241;43m.\u001b[39;49m\u001b[43mread_pickle\u001b[49m\u001b[43m(\u001b[49m\u001b[38;5;124;43m'\u001b[39;49m\u001b[38;5;124;43mdata_clean.pkl\u001b[39;49m\u001b[38;5;124;43m'\u001b[39;49m\u001b[43m)\u001b[49m\n\u001b[1;32m     13\u001b[0m data_clean\n\u001b[1;32m     15\u001b[0m \u001b[38;5;66;03m# Apply the nouns function to the transcripts to filter only on nouns\u001b[39;00m\n",
      "File \u001b[0;32m~/opt/anaconda3/lib/python3.9/site-packages/pandas/io/pickle.py:187\u001b[0m, in \u001b[0;36mread_pickle\u001b[0;34m(filepath_or_buffer, compression, storage_options)\u001b[0m\n\u001b[1;32m    124\u001b[0m \u001b[38;5;124;03m\"\"\"\u001b[39;00m\n\u001b[1;32m    125\u001b[0m \u001b[38;5;124;03mLoad pickled pandas object (or any object) from file.\u001b[39;00m\n\u001b[1;32m    126\u001b[0m \n\u001b[0;32m   (...)\u001b[0m\n\u001b[1;32m    184\u001b[0m \u001b[38;5;124;03m4    4    9\u001b[39;00m\n\u001b[1;32m    185\u001b[0m \u001b[38;5;124;03m\"\"\"\u001b[39;00m  \u001b[38;5;66;03m# noqa: E501\u001b[39;00m\n\u001b[1;32m    186\u001b[0m excs_to_catch \u001b[38;5;241m=\u001b[39m (\u001b[38;5;167;01mAttributeError\u001b[39;00m, \u001b[38;5;167;01mImportError\u001b[39;00m, \u001b[38;5;167;01mModuleNotFoundError\u001b[39;00m, \u001b[38;5;167;01mTypeError\u001b[39;00m)\n\u001b[0;32m--> 187\u001b[0m \u001b[38;5;28;01mwith\u001b[39;00m \u001b[43mget_handle\u001b[49m\u001b[43m(\u001b[49m\n\u001b[1;32m    188\u001b[0m \u001b[43m    \u001b[49m\u001b[43mfilepath_or_buffer\u001b[49m\u001b[43m,\u001b[49m\n\u001b[1;32m    189\u001b[0m \u001b[43m    \u001b[49m\u001b[38;5;124;43m\"\u001b[39;49m\u001b[38;5;124;43mrb\u001b[39;49m\u001b[38;5;124;43m\"\u001b[39;49m\u001b[43m,\u001b[49m\n\u001b[1;32m    190\u001b[0m \u001b[43m    \u001b[49m\u001b[43mcompression\u001b[49m\u001b[38;5;241;43m=\u001b[39;49m\u001b[43mcompression\u001b[49m\u001b[43m,\u001b[49m\n\u001b[1;32m    191\u001b[0m \u001b[43m    \u001b[49m\u001b[43mis_text\u001b[49m\u001b[38;5;241;43m=\u001b[39;49m\u001b[38;5;28;43;01mFalse\u001b[39;49;00m\u001b[43m,\u001b[49m\n\u001b[1;32m    192\u001b[0m \u001b[43m    \u001b[49m\u001b[43mstorage_options\u001b[49m\u001b[38;5;241;43m=\u001b[39;49m\u001b[43mstorage_options\u001b[49m\u001b[43m,\u001b[49m\n\u001b[1;32m    193\u001b[0m \u001b[43m\u001b[49m\u001b[43m)\u001b[49m \u001b[38;5;28;01mas\u001b[39;00m handles:\n\u001b[1;32m    194\u001b[0m \n\u001b[1;32m    195\u001b[0m     \u001b[38;5;66;03m# 1) try standard library Pickle\u001b[39;00m\n\u001b[1;32m    196\u001b[0m     \u001b[38;5;66;03m# 2) try pickle_compat (older pandas version) to handle subclass changes\u001b[39;00m\n\u001b[1;32m    197\u001b[0m     \u001b[38;5;66;03m# 3) try pickle_compat with latin-1 encoding upon a UnicodeDecodeError\u001b[39;00m\n\u001b[1;32m    199\u001b[0m     \u001b[38;5;28;01mtry\u001b[39;00m:\n\u001b[1;32m    200\u001b[0m         \u001b[38;5;66;03m# TypeError for Cython complaints about object.__new__ vs Tick.__new__\u001b[39;00m\n\u001b[1;32m    201\u001b[0m         \u001b[38;5;28;01mtry\u001b[39;00m:\n",
      "File \u001b[0;32m~/opt/anaconda3/lib/python3.9/site-packages/pandas/io/common.py:798\u001b[0m, in \u001b[0;36mget_handle\u001b[0;34m(path_or_buf, mode, encoding, compression, memory_map, is_text, errors, storage_options)\u001b[0m\n\u001b[1;32m    789\u001b[0m         handle \u001b[38;5;241m=\u001b[39m \u001b[38;5;28mopen\u001b[39m(\n\u001b[1;32m    790\u001b[0m             handle,\n\u001b[1;32m    791\u001b[0m             ioargs\u001b[38;5;241m.\u001b[39mmode,\n\u001b[0;32m   (...)\u001b[0m\n\u001b[1;32m    794\u001b[0m             newline\u001b[38;5;241m=\u001b[39m\u001b[38;5;124m\"\u001b[39m\u001b[38;5;124m\"\u001b[39m,\n\u001b[1;32m    795\u001b[0m         )\n\u001b[1;32m    796\u001b[0m     \u001b[38;5;28;01melse\u001b[39;00m:\n\u001b[1;32m    797\u001b[0m         \u001b[38;5;66;03m# Binary mode\u001b[39;00m\n\u001b[0;32m--> 798\u001b[0m         handle \u001b[38;5;241m=\u001b[39m \u001b[38;5;28;43mopen\u001b[39;49m\u001b[43m(\u001b[49m\u001b[43mhandle\u001b[49m\u001b[43m,\u001b[49m\u001b[43m \u001b[49m\u001b[43mioargs\u001b[49m\u001b[38;5;241;43m.\u001b[39;49m\u001b[43mmode\u001b[49m\u001b[43m)\u001b[49m\n\u001b[1;32m    799\u001b[0m     handles\u001b[38;5;241m.\u001b[39mappend(handle)\n\u001b[1;32m    801\u001b[0m \u001b[38;5;66;03m# Convert BytesIO or file objects passed with an encoding\u001b[39;00m\n",
      "\u001b[0;31mFileNotFoundError\u001b[0m: [Errno 2] No such file or directory: 'data_clean.pkl'"
     ]
    }
   ],
   "source": [
    "# Let's create a function to pull out nouns from a string of text\n",
    "from nltk import word_tokenize, pos_tag\n",
    "\n",
    "def nouns(text):\n",
    "    '''Given a string of text, tokenize the text and pull out only the nouns.'''\n",
    "    is_noun = lambda pos: pos[:2] == 'NN'\n",
    "    tokenized = word_tokenize(text)\n",
    "    all_nouns = [word for (word, pos) in pos_tag(tokenized) if is_noun(pos)] \n",
    "    return ' '.join(all_nouns)\n",
    "\n",
    "# Read in the cleaned data, before the CountVectorizer step\n",
    "data_clean = pd.read_pickle('data_clean.pkl')\n",
    "data_clean\n",
    "\n",
    "# Apply the nouns function to the transcripts to filter only on nouns\n",
    "data_nouns = pd.DataFrame(data_clean.transcript.apply(nouns))\n",
    "data_nouns\n",
    "\n",
    "# Create a new document-term matrix using only nouns\n",
    "from sklearn.feature_extraction import text\n",
    "from sklearn.feature_extraction.text import CountVectorizer\n",
    "\n",
    "# Re-add the additional stop words since we are recreating the document-term matrix\n",
    "add_stop_words = ['like', 'im', 'know', 'just', 'dont', 'thats', 'right', 'people',\n",
    "                  'youre', 'got', 'gonna', 'time', 'think', 'yeah', 'said']\n",
    "stop_words = text.ENGLISH_STOP_WORDS.union(add_stop_words)\n",
    "\n",
    "# Recreate a document-term matrix with only nouns\n",
    "cvn = CountVectorizer(stop_words=stop_words)\n",
    "data_cvn = cvn.fit_transform(data_nouns.transcript)\n",
    "data_dtmn = pd.DataFrame(data_cvn.toarray(), columns=cvn.get_feature_names())\n",
    "data_dtmn.index = data_nouns.index\n",
    "data_dtmn\n",
    "\n",
    "# Create the gensim corpus\n",
    "corpusn = matutils.Sparse2Corpus(scipy.sparse.csr_matrix(data_dtmn.transpose()))\n",
    "\n",
    "# Create the vocabulary dictionary\n",
    "id2wordn = dict((v, k) for k, v in cvn.vocabulary_.items())"
   ]
  },
  {
   "cell_type": "code",
   "execution_count": null,
   "metadata": {},
   "outputs": [],
   "source": [
    "# Let's start with 2 topics\n",
    "ldan = models.LdaModel(corpus=corpusn, num_topics=2, id2word=id2wordn, passes=10)\n",
    "ldan.print_topics()"
   ]
  }
 ],
 "metadata": {
  "kernelspec": {
   "display_name": "Python 3 (ipykernel)",
   "language": "python",
   "name": "python3"
  },
  "language_info": {
   "codemirror_mode": {
    "name": "ipython",
    "version": 3
   },
   "file_extension": ".py",
   "mimetype": "text/x-python",
   "name": "python",
   "nbconvert_exporter": "python",
   "pygments_lexer": "ipython3",
   "version": "3.9.12"
  }
 },
 "nbformat": 4,
 "nbformat_minor": 2
}
