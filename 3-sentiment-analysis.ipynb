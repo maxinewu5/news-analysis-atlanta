{
 "cells": [
  {
   "cell_type": "markdown",
   "metadata": {},
   "source": [
    "# Sentiment Analysis\n",
    "\n",
    "Sentiment Analysis using the Textblob module. TextBlob returns the polarity of an article (from -1 to 1, where -1 represents negative and 1 represents positive) and the subjectivity of an article (from 0 to 1, where 0 is completely factual and 1 is completely opinionated. \n",
    "\n",
    "Next Meeting:\n",
    "* Read articles again \n",
    "* Try some basic sentiment analysis\n",
    "\n"
   ]
  },
  {
   "cell_type": "markdown",
   "metadata": {},
   "source": [
    "## Textblob API"
   ]
  },
  {
   "cell_type": "code",
   "execution_count": 5,
   "metadata": {},
   "outputs": [
    {
     "data": {
      "text/html": [
       "<div>\n",
       "<style scoped>\n",
       "    .dataframe tbody tr th:only-of-type {\n",
       "        vertical-align: middle;\n",
       "    }\n",
       "\n",
       "    .dataframe tbody tr th {\n",
       "        vertical-align: top;\n",
       "    }\n",
       "\n",
       "    .dataframe thead th {\n",
       "        text-align: right;\n",
       "    }\n",
       "</style>\n",
       "<table border=\"1\" class=\"dataframe\">\n",
       "  <thead>\n",
       "    <tr style=\"text-align: right;\">\n",
       "      <th></th>\n",
       "      <th>article</th>\n",
       "    </tr>\n",
       "  </thead>\n",
       "  <tbody>\n",
       "    <tr>\n",
       "      <th>nyt</th>\n",
       "      <td>Among the first things I did upon learning abo...</td>\n",
       "    </tr>\n",
       "    <tr>\n",
       "      <th>fox</th>\n",
       "      <td>On the afternoon of March 16, police say, a 21...</td>\n",
       "    </tr>\n",
       "    <tr>\n",
       "      <th>cnn</th>\n",
       "      <td>At an office where I worked some years ago, a ...</td>\n",
       "    </tr>\n",
       "    <tr>\n",
       "      <th>ac</th>\n",
       "      <td>It is striking to see how quickly our media ha...</td>\n",
       "    </tr>\n",
       "  </tbody>\n",
       "</table>\n",
       "</div>"
      ],
      "text/plain": [
       "                                               article\n",
       "nyt  Among the first things I did upon learning abo...\n",
       "fox  On the afternoon of March 16, police say, a 21...\n",
       "cnn  At an office where I worked some years ago, a ...\n",
       "ac   It is striking to see how quickly our media ha..."
      ]
     },
     "execution_count": 5,
     "metadata": {},
     "output_type": "execute_result"
    }
   ],
   "source": [
    "import pandas as pd\n",
    "\n",
    "data = pd.read_pickle('corpus.pkl')\n",
    "data"
   ]
  },
  {
   "cell_type": "code",
   "execution_count": 10,
   "metadata": {},
   "outputs": [
    {
     "data": {
      "text/html": [
       "<div>\n",
       "<style scoped>\n",
       "    .dataframe tbody tr th:only-of-type {\n",
       "        vertical-align: middle;\n",
       "    }\n",
       "\n",
       "    .dataframe tbody tr th {\n",
       "        vertical-align: top;\n",
       "    }\n",
       "\n",
       "    .dataframe thead th {\n",
       "        text-align: right;\n",
       "    }\n",
       "</style>\n",
       "<table border=\"1\" class=\"dataframe\">\n",
       "  <thead>\n",
       "    <tr style=\"text-align: right;\">\n",
       "      <th></th>\n",
       "      <th>article</th>\n",
       "      <th>polarity</th>\n",
       "      <th>subjectivity</th>\n",
       "      <th>source</th>\n",
       "    </tr>\n",
       "  </thead>\n",
       "  <tbody>\n",
       "    <tr>\n",
       "      <th>nyt</th>\n",
       "      <td>Among the first things I did upon learning abo...</td>\n",
       "      <td>-0.009886</td>\n",
       "      <td>0.372951</td>\n",
       "      <td>nyt</td>\n",
       "    </tr>\n",
       "    <tr>\n",
       "      <th>fox</th>\n",
       "      <td>On the afternoon of March 16, police say, a 21...</td>\n",
       "      <td>0.077954</td>\n",
       "      <td>0.459656</td>\n",
       "      <td>fox</td>\n",
       "    </tr>\n",
       "    <tr>\n",
       "      <th>cnn</th>\n",
       "      <td>At an office where I worked some years ago, a ...</td>\n",
       "      <td>-0.058618</td>\n",
       "      <td>0.428869</td>\n",
       "      <td>cnn</td>\n",
       "    </tr>\n",
       "    <tr>\n",
       "      <th>ac</th>\n",
       "      <td>It is striking to see how quickly our media ha...</td>\n",
       "      <td>0.077946</td>\n",
       "      <td>0.385631</td>\n",
       "      <td>ac</td>\n",
       "    </tr>\n",
       "  </tbody>\n",
       "</table>\n",
       "</div>"
      ],
      "text/plain": [
       "                                               article  polarity  \\\n",
       "nyt  Among the first things I did upon learning abo... -0.009886   \n",
       "fox  On the afternoon of March 16, police say, a 21...  0.077954   \n",
       "cnn  At an office where I worked some years ago, a ... -0.058618   \n",
       "ac   It is striking to see how quickly our media ha...  0.077946   \n",
       "\n",
       "     subjectivity source  \n",
       "nyt      0.372951    nyt  \n",
       "fox      0.459656    fox  \n",
       "cnn      0.428869    cnn  \n",
       "ac       0.385631     ac  "
      ]
     },
     "execution_count": 10,
     "metadata": {},
     "output_type": "execute_result"
    }
   ],
   "source": [
    "# sentiment analysis - polarity and subjectivity\n",
    "\n",
    "from textblob import TextBlob\n",
    "\n",
    "pol = lambda x: TextBlob(x).sentiment.polarity\n",
    "sub = lambda x: TextBlob(x).sentiment.subjectivity\n",
    "\n",
    "data['polarity'] = data['article'].apply(pol)\n",
    "data['subjectivity'] = data['article'].apply(sub)\n",
    "data['source'] = data.index\n",
    "data"
   ]
  },
  {
   "cell_type": "code",
   "execution_count": null,
   "metadata": {},
   "outputs": [],
   "source": [
    "# lambda + apply notes\n",
    "\n",
    "# lambda basically returns a funciton that takes x as input and returns TextBlob(x).sentiment.polarity function as output\n",
    "pol = lambda x: TextBlob(x).sentiment.polarity\n",
    "sub = lambda x: TextBlob(x).sentiment.subjectivity\n",
    "data['polarity'] = data['article'].apply(pol)\n",
    "data['subjectivity'] = data['article'].apply(sub)\n",
    "# another way is using traditional functions then passing the names of the functions\n",
    "def getSubjectivity(text):\n",
    "   return TextBlob(text).sentiment.subjectivity\n",
    " #Create a function to get the polarity\n",
    " def getPolarity(text):\n",
    "   return TextBlob(text).sentiment.polarity\n",
    "data['polarity'] = data['article'].apply(getPolarity)\n",
    "data['subjectivity'] = data['article'].apply(getSubjectivity)\n",
    "# the .apply() method of a dataframe column takes in a function, applies it to the column, and returns the modified column\n",
    "\n",
    "\n",
    "# more lambda testing\n",
    "func = lambda x: x + 10\n",
    "print(func(10))"
   ]
  },
  {
   "cell_type": "code",
   "execution_count": 35,
   "metadata": {},
   "outputs": [
    {
     "data": {
      "image/png": "[encoded data removed]",
      "text/plain": [
       "<Figure size 432x288 with 1 Axes>"
      ]
     },
     "metadata": {
      "needs_background": "light"
     },
     "output_type": "display_data"
    }
   ],
   "source": [
    "# plot the results\n",
    "\n",
    "import matplotlib.pyplot as plt\n",
    "import matplotlib.axes as ax\n",
    "\n",
    "plt.scatter(data['polarity'], data['subjectivity'])\n",
    "\n",
    "for i in data['source']:\n",
    "    # print(data['source'][i])\n",
    "    plt.annotate(data['source'][i], (data['polarity'][i], data['subjectivity'][i]))\n",
    "\n",
    "plt.title('Sentiment Analysis on the Articles')\n",
    "plt.xlabel('Polarity [1 is positive, -1 is negative]')\n",
    "plt.ylabel('Subjectivity [1 is opinionated, 0 is factual]')\n",
    "\n",
    "    \n",
    "plt.show()"
   ]
  },
  {
   "cell_type": "markdown",
   "metadata": {},
   "source": [
    "### Analysis\n",
    "* CNN and NYT are more negative, while FOX and AC are more positive.\n",
    "* CNN and FOX are more opinionated, while NYT and AC are less opinionated. (Though, all articles are fairly opinionated, since they are opinionated articles.)"
   ]
  },
  {
   "cell_type": "markdown",
   "metadata": {},
   "source": [
    "## Other APIs? (Watson, etc)"
   ]
  }
 ],
 "metadata": {
  "kernelspec": {
   "display_name": "Python 3 (ipykernel)",
   "language": "python",
   "name": "python3"
  },
  "language_info": {
   "codemirror_mode": {
    "name": "ipython",
    "version": 3
   },
   "file_extension": ".py",
   "mimetype": "text/x-python",
   "name": "python",
   "nbconvert_exporter": "python",
   "pygments_lexer": "ipython3",
   "version": "3.9.12"
  }
 },
 "nbformat": 4,
 "nbformat_minor": 2
}
